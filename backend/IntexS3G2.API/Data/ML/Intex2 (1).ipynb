{
  "cells": [
    {
      "cell_type": "code",
      "execution_count": null,
      "metadata": {
        "colab": {
          "base_uri": "https://localhost:8080/"
        },
        "id": "tHxMGb3zN0vA",
        "outputId": "5474e386-1793-4646-ebba-a158b7d2e87b"
      },
      "outputs": [
        {
          "name": "stdout",
          "output_type": "stream",
          "text": [
            "Drive already mounted at /content/drive; to attempt to forcibly remount, call drive.mount(\"/content/drive\", force_remount=True).\n"
          ]
        }
      ],
      "source": []
    },
    {
      "cell_type": "code",
      "execution_count": null,
      "metadata": {
        "id": "Q6DtxC5GOZBA"
      },
      "outputs": [],
      "source": [
        "import pandas as pd\n",
        "\n",
        "df_ratings = pd.read_csv('movies_ratings.csv')\n",
        "df_titles = pd.read_csv('movies_titles.csv')\n",
        "df_users = pd.read_csv('movies_users.csv')"
      ]
    },
    {
      "cell_type": "markdown",
      "metadata": {
        "id": "6fH897i1POaM"
      },
      "source": [
        "# **Basic Data Understanding (Exploration)**"
      ]
    },
    {
      "cell_type": "code",
      "execution_count": 365,
      "metadata": {
        "colab": {
          "base_uri": "https://localhost:8080/"
        },
        "id": "fj89Npm3Oc4R",
        "outputId": "cf382acc-4765-453a-c3c8-0a97bdc3ee8e"
      },
      "outputs": [
        {
          "name": "stdout",
          "output_type": "stream",
          "text": [
            "Head of df_ratings:\n",
            "    user_id show_id  rating\n",
            "0        1   s8381       4\n",
            "1        1   s3466       5\n",
            "2        1   s3181       4\n",
            "3        1    s294       3\n",
            "4        1   s7739       5\n",
            "\n",
            "Descriptive statistics of df_ratings:\n",
            "            user_id       rating\n",
            "count  2147.000000  2147.000000\n",
            "mean    100.693526     3.982767\n",
            "std      57.759328     0.808956\n",
            "min       1.000000     3.000000\n",
            "25%      51.000000     3.000000\n",
            "50%     101.000000     4.000000\n",
            "75%     151.000000     5.000000\n",
            "max     200.000000     5.000000\n",
            "\n",
            "Rating value counts:\n",
            " rating\n",
            "4    742\n",
            "3    721\n",
            "5    684\n",
            "Name: count, dtype: int64\n",
            "\n",
            "Number of unique users: 200\n",
            "Number of unique shows: 1809\n"
          ]
        }
      ],
      "source": [
        "# First few rows of the ratings dataframe\n",
        "head_ratings = df_ratings.head()\n",
        "print(\"Head of df_ratings:\\n\", head_ratings)\n",
        "\n",
        "# Descriptive statistics of the ratings dataframe\n",
        "desc_ratings = df_ratings.describe()\n",
        "print(\"\\nDescriptive statistics of df_ratings:\\n\", desc_ratings)\n",
        "\n",
        "# Count of each rating value\n",
        "rating_counts = df_ratings['rating'].value_counts()\n",
        "print(\"\\nRating value counts:\\n\", rating_counts)\n",
        "\n",
        "# Number of unique users and shows\n",
        "unique_users = df_ratings['user_id'].nunique()\n",
        "unique_shows = df_ratings['show_id'].nunique()\n",
        "print(\"\\nNumber of unique users:\", unique_users)\n",
        "print(\"Number of unique shows:\", unique_shows)\n"
      ]
    },
    {
      "cell_type": "markdown",
      "metadata": {
        "id": "CL_w0fInQGvB"
      },
      "source": [
        "There are **2,147 total ratings** across all users and shows\n",
        "ratings **range from 3 to 5**, which is a narrow range\n",
        "\n",
        "That could be by design allowing rating 3–5, or it might suggest bias in how users rate, user not rating what they don't like.\n",
        "\n",
        "The mean rating is about 3.98, and the median is 4, so people generally rate shows quite positively.\n",
        "\n",
        "The user IDs range from 1 to 200, which matches your unique users count.\n",
        "\n",
        "Ratings are evenly distributed among 3, 4, and 5 — but again, all ratings are high.\n",
        "\n",
        "This could affect collaborative filtering: since there's little negative feedback, the model might struggle to distinguish \"good\" from \"excellent\" shows.\n",
        "\n",
        "**Summary**:\n",
        "\n",
        "- Sparse, **positive-biased** rating data\n",
        "\n",
        "- A good amount of users (200) and a large catalog of shows (1809)\n",
        "\n",
        "- A need to fill in missing values or predict unseen ratings — exactly what collaborative filtering is designed to solve."
      ]
    },
    {
      "cell_type": "code",
      "execution_count": 366,
      "metadata": {
        "colab": {
          "base_uri": "https://localhost:8080/",
          "height": 209
        },
        "id": "HjKeX4JfRqKK",
        "outputId": "fa0b61ee-8872-4231-cee0-9b5b7ff16852"
      },
      "outputs": [
        {
          "data": {
            "text/html": [
              "<div>\n",
              "<style scoped>\n",
              "    .dataframe tbody tr th:only-of-type {\n",
              "        vertical-align: middle;\n",
              "    }\n",
              "\n",
              "    .dataframe tbody tr th {\n",
              "        vertical-align: top;\n",
              "    }\n",
              "\n",
              "    .dataframe thead th {\n",
              "        text-align: right;\n",
              "    }\n",
              "</style>\n",
              "<table border=\"1\" class=\"dataframe\">\n",
              "  <thead>\n",
              "    <tr style=\"text-align: right;\">\n",
              "      <th></th>\n",
              "      <th>count</th>\n",
              "    </tr>\n",
              "    <tr>\n",
              "      <th>gender</th>\n",
              "      <th></th>\n",
              "    </tr>\n",
              "  </thead>\n",
              "  <tbody>\n",
              "    <tr>\n",
              "      <th>Male</th>\n",
              "      <td>98</td>\n",
              "    </tr>\n",
              "    <tr>\n",
              "      <th>Female</th>\n",
              "      <td>98</td>\n",
              "    </tr>\n",
              "    <tr>\n",
              "      <th>Other</th>\n",
              "      <td>4</td>\n",
              "    </tr>\n",
              "  </tbody>\n",
              "</table>\n",
              "</div><br><label><b>dtype:</b> int64</label>"
            ],
            "text/plain": [
              "gender\n",
              "Male      98\n",
              "Female    98\n",
              "Other      4\n",
              "Name: count, dtype: int64"
            ]
          },
          "execution_count": 366,
          "metadata": {},
          "output_type": "execute_result"
        }
      ],
      "source": [
        "df_users.describe(include='all')\n",
        "df_users['gender'].value_counts()"
      ]
    },
    {
      "cell_type": "markdown",
      "metadata": {
        "id": "ObVcHFyhSzHx"
      },
      "source": [
        "# **df_users understanding**"
      ]
    },
    {
      "cell_type": "code",
      "execution_count": 367,
      "metadata": {
        "colab": {
          "base_uri": "https://localhost:8080/"
        },
        "id": "y3ZbTzywR44t",
        "outputId": "36b7c7a1-7f16-4b5d-ed86-1afce437f96c"
      },
      "outputs": [
        {
          "name": "stdout",
          "output_type": "stream",
          "text": [
            "\n",
            "Descriptive statistics of df_users:\n",
            "            user_id            name         phone               email  \\\n",
            "count   200.000000             200           200                 200   \n",
            "unique         NaN             199           200                 200   \n",
            "top            NaN  Mark Hernandez  890.309.2971  esmith@hotmail.com   \n",
            "freq           NaN               2             1                   1   \n",
            "mean    100.500000             NaN           NaN                 NaN   \n",
            "std      57.879185             NaN           NaN                 NaN   \n",
            "min       1.000000             NaN           NaN                 NaN   \n",
            "25%      50.750000             NaN           NaN                 NaN   \n",
            "50%     100.500000             NaN           NaN                 NaN   \n",
            "75%     150.250000             NaN           NaN                 NaN   \n",
            "max     200.000000             NaN           NaN                 NaN   \n",
            "\n",
            "               age gender     Netflix  Amazon Prime     Disney+  Paramount+  \\\n",
            "count   200.000000    200  200.000000     200.00000  200.000000  200.000000   \n",
            "unique         NaN      3         NaN           NaN         NaN         NaN   \n",
            "top            NaN   Male         NaN           NaN         NaN         NaN   \n",
            "freq           NaN     98         NaN           NaN         NaN         NaN   \n",
            "mean     41.610000    NaN    0.475000       0.49500    0.480000    0.450000   \n",
            "std      13.541965    NaN    0.500628       0.50123    0.500854    0.498742   \n",
            "min      18.000000    NaN    0.000000       0.00000    0.000000    0.000000   \n",
            "25%      30.000000    NaN    0.000000       0.00000    0.000000    0.000000   \n",
            "50%      42.000000    NaN    0.000000       0.00000    0.000000    0.000000   \n",
            "75%      53.000000    NaN    1.000000       1.00000    1.000000    1.000000   \n",
            "max      65.000000    NaN    1.000000       1.00000    1.000000    1.000000   \n",
            "\n",
            "               Max        Hulu   Apple TV+     Peacock city state  \\\n",
            "count   200.000000  200.000000  200.000000  200.000000  200   200   \n",
            "unique         NaN         NaN         NaN         NaN  184    52   \n",
            "top            NaN         NaN         NaN         NaN  FPO    AE   \n",
            "freq           NaN         NaN         NaN         NaN    7    10   \n",
            "mean      0.445000    0.470000    0.535000    0.565000  NaN   NaN   \n",
            "std       0.498213    0.500352    0.500025    0.497001  NaN   NaN   \n",
            "min       0.000000    0.000000    0.000000    0.000000  NaN   NaN   \n",
            "25%       0.000000    0.000000    0.000000    0.000000  NaN   NaN   \n",
            "50%       0.000000    0.000000    1.000000    1.000000  NaN   NaN   \n",
            "75%       1.000000    1.000000    1.000000    1.000000  NaN   NaN   \n",
            "max       1.000000    1.000000    1.000000    1.000000  NaN   NaN   \n",
            "\n",
            "                 zip  \n",
            "count     200.000000  \n",
            "unique           NaN  \n",
            "top              NaN  \n",
            "freq             NaN  \n",
            "mean    50712.820000  \n",
            "std     27983.419734  \n",
            "min       956.000000  \n",
            "25%     29239.500000  \n",
            "50%     51816.500000  \n",
            "75%     73913.500000  \n",
            "max     99237.000000  \n",
            "\n",
            "Gender value counts:\n",
            " gender\n",
            "Male      98\n",
            "Female    98\n",
            "Other      4\n",
            "Name: count, dtype: int64\n"
          ]
        }
      ],
      "source": [
        "user_description = df_users.describe(include='all')\n",
        "gender_counts = df_users['gender'].value_counts()\n",
        "\n",
        "print(\"\\nDescriptive statistics of df_users:\\n\", user_description)\n",
        "print(\"\\nGender value counts:\\n\", gender_counts)"
      ]
    },
    {
      "cell_type": "markdown",
      "metadata": {
        "id": "Ed0128kJSvfm"
      },
      "source": [
        "user_id: Goes from 1 to 200. As expected, 200 users.\n",
        "\n"
      ]
    },
    {
      "cell_type": "markdown",
      "metadata": {
        "id": "AsOBKGcDUxoF"
      },
      "source": [
        "Your users are **diverse** in age, location, and streaming subscriptions.\n",
        "\n",
        "Subscription columns could help do content-based hybrid filtering (e.g., only recommend shows from platforms users have access to)."
      ]
    },
    {
      "cell_type": "markdown",
      "metadata": {
        "id": "VJUvGO7NTtrz"
      },
      "source": [
        "# **df_titles understanding**"
      ]
    },
    {
      "cell_type": "code",
      "execution_count": 368,
      "metadata": {
        "colab": {
          "base_uri": "https://localhost:8080/",
          "height": 427
        },
        "id": "-tutr5qyTvOz",
        "outputId": "35852729-f054-4582-d2e4-9b9f86e78bff"
      },
      "outputs": [
        {
          "data": {
            "text/plain": [
              "<Axes: xlabel='release_year'>"
            ]
          },
          "execution_count": 368,
          "metadata": {},
          "output_type": "execute_result"
        },
        {
          "data": {
            "image/png": "[encoded data removed]",
            "text/plain": [
              "<Figure size 1200x400 with 1 Axes>"
            ]
          },
          "metadata": {},
          "output_type": "display_data"
        }
      ],
      "source": [
        "df_titles['release_year'].value_counts().sort_index().plot(kind='bar', figsize=(12, 4))"
      ]
    },
    {
      "cell_type": "markdown",
      "metadata": {
        "id": "W8NDJR0dVtMN"
      },
      "source": [
        "The bar plot of release years shows a **significant increase in the number of titles released in more recent years**. This **could suggest a trend where newer content is more abundant than older content**, reflecting the increasing volume of productions in recent times. This trend might also highlight the popularity and demand for newer content, which could be important for understanding the relevance and availability of shows or movies in the current market."
      ]
    },
    {
      "cell_type": "markdown",
      "metadata": {
        "id": "not2l-hFWbnt"
      },
      "source": [
        "# **Missing Data**"
      ]
    },
    {
      "cell_type": "code",
      "execution_count": 369,
      "metadata": {
        "colab": {
          "base_uri": "https://localhost:8080/"
        },
        "id": "YCXSbC6EWelQ",
        "outputId": "7230efa9-d498-4a3b-8824-59fc5bc1ea9a"
      },
      "outputs": [
        {
          "name": "stdout",
          "output_type": "stream",
          "text": [
            "--- Checking DataFrame: df_ratings ---\n",
            "Shape: (2147, 3)\n",
            "✅ No missing values in this DataFrame.\n",
            "\n",
            "--- Checking DataFrame: df_titles ---\n",
            "Shape: (8508, 42)\n",
            "⚠️ Columns with missing values:\n",
            " - director: 2114 missing (24.85%)\n",
            " - cast: 119 missing (1.40%)\n",
            " - country: 814 missing (9.57%)\n",
            " - rating: 4 missing (0.05%)\n",
            " - duration: 1 missing (0.01%)\n",
            "\n",
            "--- Checking DataFrame: df_users ---\n",
            "Shape: (200, 17)\n",
            "✅ No missing values in this DataFrame.\n",
            "\n"
          ]
        }
      ],
      "source": [
        "def check_missing_values(dfs, df_names):\n",
        "    for df, name in zip(dfs, df_names):\n",
        "        print(f\"--- Checking DataFrame: {name} ---\")\n",
        "        print(f\"Shape: {df.shape}\")\n",
        "\n",
        "        missing = df.isnull().sum()\n",
        "        missing = missing[missing > 0]  # Filter only columns with missing values\n",
        "\n",
        "        if missing.empty:\n",
        "            print(\"✅ No missing values in this DataFrame.\\n\")\n",
        "        else:\n",
        "            print(\"⚠️ Columns with missing values:\")\n",
        "            for col, num_missing in missing.items():\n",
        "                percent = (num_missing / len(df)) * 100\n",
        "                print(f\" - {col}: {num_missing} missing ({percent:.2f}%)\")\n",
        "            print()\n",
        "\n",
        "# Example usage with your dataframes\n",
        "check_missing_values(\n",
        "    dfs=[df_ratings, df_titles, df_users],\n",
        "    df_names=[\"df_ratings\", \"df_titles\", \"df_users\"]\n",
        ")\n"
      ]
    },
    {
      "cell_type": "code",
      "execution_count": 370,
      "metadata": {
        "colab": {
          "base_uri": "https://localhost:8080/",
          "height": 467
        },
        "id": "Kpj4SmBeWu95",
        "outputId": "5a8952ae-1d25-459c-b56e-eaafa0eda4b2"
      },
      "outputs": [
        {
          "data": {
            "text/plain": [
              "<Axes: xlabel='rating', ylabel='Count'>"
            ]
          },
          "execution_count": 370,
          "metadata": {},
          "output_type": "execute_result"
        },
        {
          "data": {
            "image/png": "[encoded data removed]",
            "text/plain": [
              "<Figure size 640x480 with 1 Axes>"
            ]
          },
          "metadata": {},
          "output_type": "display_data"
        }
      ],
      "source": [
        "import seaborn as sns\n",
        "sns.histplot(df_ratings['rating'], kde=True)"
      ]
    },
    {
      "cell_type": "markdown",
      "metadata": {
        "id": "WNw_77TDa1J6"
      },
      "source": [
        "# **Sparsity**"
      ]
    },
    {
      "cell_type": "markdown",
      "metadata": {
        "id": "Wf7Ag71s7cRw"
      },
      "source": [
        "A matrix is considered highly sparse when most of the entries are missing or have no value (i.e., are **zeros** or **NaNs**)."
      ]
    },
    {
      "cell_type": "code",
      "execution_count": 371,
      "metadata": {
        "colab": {
          "base_uri": "https://localhost:8080/"
        },
        "id": "1QQIrmdQ7NtC",
        "outputId": "c5e44b1f-7c32-4ae5-9b64-9eacd3f81e4a"
      },
      "outputs": [
        {
          "name": "stdout",
          "output_type": "stream",
          "text": [
            "Sparsity of the matrix: 0.9941\n"
          ]
        }
      ],
      "source": [
        "user_item_matrix = df_ratings.pivot(index='user_id', columns='show_id', values='rating')\n",
        "sparsity = 1 - (user_item_matrix.count().sum() / (user_item_matrix.shape[0] * user_item_matrix.shape[1]))\n",
        "print(f\"Sparsity of the matrix: {sparsity:.4f}\")"
      ]
    },
    {
      "cell_type": "markdown",
      "metadata": {
        "id": "Pe3xuUpbaw1f"
      },
      "source": [
        "Sparsity of 0.9941 means the matrix is **extremely sparse**, with only about 0.59% of the values filled, and **99.41% of the values are missing**."
      ]
    },
    {
      "cell_type": "markdown",
      "metadata": {
        "id": "mqPDlNz_bEIn"
      },
      "source": [
        "**Zero duplicate**"
      ]
    },
    {
      "cell_type": "code",
      "execution_count": 372,
      "metadata": {
        "colab": {
          "base_uri": "https://localhost:8080/"
        },
        "id": "s9IrYHt8ccD5",
        "outputId": "0538a72f-a3e1-45e4-ca1d-2f7960f4a7c5"
      },
      "outputs": [
        {
          "name": "stdout",
          "output_type": "stream",
          "text": [
            "Duplicate ratings: 0\n"
          ]
        }
      ],
      "source": [
        "print(f\"Duplicate ratings: {df_ratings.duplicated(subset=['user_id', 'show_id']).sum()}\")"
      ]
    },
    {
      "cell_type": "code",
      "execution_count": 373,
      "metadata": {
        "colab": {
          "base_uri": "https://localhost:8080/"
        },
        "id": "ze3t5kjjhAMJ",
        "outputId": "7bb72b4d-f04c-4314-b439-cdefae7a53d7"
      },
      "outputs": [
        {
          "name": "stdout",
          "output_type": "stream",
          "text": [
            "show_id\n",
            "s3282    4\n",
            "s2179    4\n",
            "s6508    4\n",
            "s540     4\n",
            "s7748    4\n",
            "        ..\n",
            "s4141    1\n",
            "s3267    1\n",
            "s6284    1\n",
            "s8582    1\n",
            "s4490    1\n",
            "Name: count, Length: 1809, dtype: int64\n"
          ]
        }
      ],
      "source": [
        "print(df_ratings['show_id'].value_counts())"
      ]
    },
    {
      "cell_type": "code",
      "execution_count": 374,
      "metadata": {
        "colab": {
          "base_uri": "https://localhost:8080/"
        },
        "id": "q9HDECDhcrtA",
        "outputId": "98c406c2-a973-4813-ef96-2c646f60fdc6"
      },
      "outputs": [
        {
          "name": "stdout",
          "output_type": "stream",
          "text": [
            "user_id\n",
            "1      11\n",
            "2      11\n",
            "3      11\n",
            "4      11\n",
            "5      11\n",
            "       ..\n",
            "34      9\n",
            "132     9\n",
            "109     9\n",
            "138     9\n",
            "182     9\n",
            "Name: count, Length: 200, dtype: int64\n"
          ]
        }
      ],
      "source": [
        "print(df_ratings['user_id'].value_counts())"
      ]
    },
    {
      "cell_type": "markdown",
      "metadata": {
        "id": "Rjk5CPnSdfDt"
      },
      "source": [
        "**rating_percentages shows the proportion of movies that received 1, 2, 3, and 4 ratings.**"
      ]
    },
    {
      "cell_type": "code",
      "execution_count": 375,
      "metadata": {
        "colab": {
          "base_uri": "https://localhost:8080/",
          "height": 276
        },
        "id": "1VvLnPmTi3qR",
        "outputId": "701d5131-8b64-4912-9418-f624cd664616"
      },
      "outputs": [
        {
          "name": "stdout",
          "output_type": "stream",
          "text": [
            "\n",
            "Percentage of movies receiving a certain number of ratings:\n"
          ]
        },
        {
          "data": {
            "text/html": [
              "<div>\n",
              "<style scoped>\n",
              "    .dataframe tbody tr th:only-of-type {\n",
              "        vertical-align: middle;\n",
              "    }\n",
              "\n",
              "    .dataframe tbody tr th {\n",
              "        vertical-align: top;\n",
              "    }\n",
              "\n",
              "    .dataframe thead th {\n",
              "        text-align: right;\n",
              "    }\n",
              "</style>\n",
              "<table border=\"1\" class=\"dataframe\">\n",
              "  <thead>\n",
              "    <tr style=\"text-align: right;\">\n",
              "      <th></th>\n",
              "      <th>proportion</th>\n",
              "    </tr>\n",
              "    <tr>\n",
              "      <th>count</th>\n",
              "      <th></th>\n",
              "    </tr>\n",
              "  </thead>\n",
              "  <tbody>\n",
              "    <tr>\n",
              "      <th>1</th>\n",
              "      <td>83.692648</td>\n",
              "    </tr>\n",
              "    <tr>\n",
              "      <th>2</th>\n",
              "      <td>14.262023</td>\n",
              "    </tr>\n",
              "    <tr>\n",
              "      <th>3</th>\n",
              "      <td>1.713654</td>\n",
              "    </tr>\n",
              "    <tr>\n",
              "      <th>4</th>\n",
              "      <td>0.331675</td>\n",
              "    </tr>\n",
              "  </tbody>\n",
              "</table>\n",
              "</div><br><label><b>dtype:</b> float64</label>"
            ],
            "text/plain": [
              "count\n",
              "1    83.692648\n",
              "2    14.262023\n",
              "3     1.713654\n",
              "4     0.331675\n",
              "Name: proportion, dtype: float64"
            ]
          },
          "execution_count": 375,
          "metadata": {},
          "output_type": "execute_result"
        }
      ],
      "source": [
        "# Count the number of ratings for each movie\n",
        "value_counts = df_ratings['show_id'].value_counts()\n",
        "\n",
        "# Calculate the percentage of movies rated only once, twice, etc.\n",
        "rating_percentages = value_counts.value_counts(normalize=True) * 100\n",
        "\n",
        "# Print the percentages\n",
        "print(\"\\nPercentage of movies receiving a certain number of ratings:\")\n",
        "rating_percentages"
      ]
    },
    {
      "cell_type": "markdown",
      "metadata": {
        "id": "d5FnKVBLjaHe"
      },
      "source": [
        "**83.69%** of the movies have been rated only once.\n",
        "\n",
        "**14.26%** of the movies have been **rated twice**.\n",
        "\n",
        "**1.71%** of the movies have been rated **three time**s\n",
        "\n",
        "**0.33%** of the movies have been rated **four times.**"
      ]
    },
    {
      "cell_type": "markdown",
      "metadata": {
        "id": "ME_8lTZajnBb"
      },
      "source": [
        "# **Interpretation**"
      ]
    },
    {
      "cell_type": "markdown",
      "metadata": {
        "id": "LT9BkH5nkHre"
      },
      "source": [
        "**Skewed Rating Distribution**: The vast majority of movies (83.69%) have only received a single rating. This suggests that most movies are either not very popular or are not being rated by a broad audience, resulting in a large number of shows with minimal feedback.\n",
        "\n",
        "**Few Movies Get Multiple Ratings**: ***A smaller percentage of movies (14.26%)*** are rated more than once, and the number rapidly drops as the number of ratings increases. This indicates a strong imbalance in how movies are rated, where a small fraction of movies are rated multiple times, while most movies barely receive any engagement.\n",
        "\n"
      ]
    },
    {
      "cell_type": "markdown",
      "metadata": {
        "id": "CEYyxquHkhv6"
      },
      "source": [
        "# **Implications for Collaborative Filtering**\n",
        "\n",
        "The high percentage of movies rated only once creates a challenge for collaborative filtering. **If only a single rating exists for most movies, it becomes difficult to generate accurate recommendations for those movies.** Collaborative filtering relies on user interaction data, and with so many movies rated only once, the system will have limited information to work with for personalized recommendations.\n",
        "\n",
        "**Potential for Improving Engagement**: Since most movies receive very few ratings, it might be useful to implement strategies for increasing engagement with less-rated content. This could involve better recommendations, highlighting hidden gems, or increasing visibility for shows that are less likely to be rated."
      ]
    },
    {
      "cell_type": "markdown",
      "metadata": {
        "id": "auo2rJ5asA5t"
      },
      "source": [
        "# **BAR CHART**"
      ]
    },
    {
      "cell_type": "markdown",
      "metadata": {
        "id": "prTCSlwKmGIT"
      },
      "source": [
        "**bar charts of the most and least popular movies as well as the count of ratings for those records.**"
      ]
    },
    {
      "cell_type": "code",
      "execution_count": 376,
      "metadata": {
        "colab": {
          "base_uri": "https://localhost:8080/",
          "height": 1000
        },
        "id": "hEasTtqVprzN",
        "outputId": "d9239b7d-606e-4399-d0dd-f4c8d6d0e964"
      },
      "outputs": [
        {
          "name": "stdout",
          "output_type": "stream",
          "text": [
            "         ratings_count  ratings_mean                               title\n",
            "show_id                                                                 \n",
            "s1004                1           5.0                                Zero\n",
            "s1005                1           3.0                  Izzy's Koala World\n",
            "s1006                1           5.0  Keymon and Nani in Space Adventure\n",
            "s1007                1           4.0            Motu Patlu Dino Invasion\n",
            "s1018                1           5.0         Dhobi Ghat (Mumbai Diaries)\n",
            "         ratings_count  ratings_mean                               title\n",
            "show_id                                                                 \n",
            "s1006                1           5.0  Keymon and Nani in Space Adventure\n",
            "s994                 1           5.0                     Shadow and Bone\n",
            "s1018                1           5.0         Dhobi Ghat (Mumbai Diaries)\n",
            "s1040                1           5.0          Dark City Beneath the Beat\n",
            "s90                  1           5.0                         Mighty Raju\n",
            "\n",
            "\n"
          ]
        },
        {
          "data": {
            "image/png": "[encoded data removed]",
            "text/plain": [
              "<Figure size 1000x400 with 1 Axes>"
            ]
          },
          "metadata": {},
          "output_type": "display_data"
        },
        {
          "data": {
            "image/png": "[encoded data removed]",
            "text/plain": [
              "<Figure size 1000x400 with 1 Axes>"
            ]
          },
          "metadata": {},
          "output_type": "display_data"
        }
      ],
      "source": [
        "import matplotlib.pyplot as plt\n",
        "import seaborn as sns\n",
        "\n",
        "# Group the rows into individual titles and calculate the mean rating for each row\n",
        "movie_stats = df_ratings.groupby(by=['show_id'])[['rating']].agg(['count', 'mean'])\n",
        "movie_stats.columns = ['ratings_count', 'ratings_mean']  # Rename the columns to simplify the index\n",
        "\n",
        "# Join with df_titles to get the titles, ensuring show_id matches exactly\n",
        "movie_stats = movie_stats.join(df_titles.set_index('show_id')['title'], on='show_id')\n",
        "\n",
        "# Check if the join worked correctly\n",
        "print(movie_stats.head())  # Verify the data after join\n",
        "\n",
        "# Sort the ratings by mean\n",
        "movie_stats = movie_stats.sort_values(by=['ratings_mean'], ascending=False)\n",
        "\n",
        "# Create a smaller dataset of the top n and bottom n rated movies\n",
        "df_reduced = pd.concat([movie_stats.head(20), movie_stats.tail(5)])\n",
        "\n",
        "# Check if df_reduced has valid data\n",
        "print(f\"{df_reduced.head()}\\n\\n\")  # Verify the content of df_reduced\n",
        "\n",
        "# Plot the average rating for each movie\n",
        "plt.figure(figsize=(10,4))  # Set the size of the figure\n",
        "sns.barplot(data=df_reduced, x='title', y='ratings_mean')\n",
        "plt.xticks(rotation=90)\n",
        "plt.title('bar charts of the most and least popular movies')  # Add title\n",
        "plt.show()\n",
        "\n",
        "# Plot the ratings count for each movie\n",
        "plt.figure(figsize=(10,4))  # Set the size of the figure\n",
        "sns.barplot(data=df_reduced, x='title', y='ratings_count')\n",
        "plt.xticks(rotation=90)\n",
        "plt.title('count of ratings for those those Movie: Most and Least popular movies.')  # Add title\n",
        "plt.show()"
      ]
    },
    {
      "cell_type": "markdown",
      "metadata": {
        "id": "Ui7k_U90wJQl"
      },
      "source": [
        "# **Model Fitting: Calculating Similarity**"
      ]
    },
    {
      "cell_type": "markdown",
      "metadata": {
        "id": "Mt6hj0Ya0QW7"
      },
      "source": [
        "This matrix is the foundation for collaborative filtering. You can:\n",
        "Compare users by their rating patterns.\n",
        "Find similar movies.\n",
        "Predict what a user might rate a movie they haven't seen yet."
      ]
    },
    {
      "cell_type": "code",
      "execution_count": 377,
      "metadata": {
        "id": "-Ph384JtqQ51"
      },
      "outputs": [],
      "source": [
        "def create_matrix(df, user, item, rating):\n",
        "  import numpy as np\n",
        "  from scipy.sparse import csr_matrix\n",
        "\n",
        "  U = df[user].nunique()  # Number of users for the matrix\n",
        "  I = df[item].nunique()  # Number of items for the matrix\n",
        "\n",
        "  # Map user and movie IDs to matrix indices\n",
        "  user_mapper = dict(zip(np.unique(df[user]), list(range(U))))\n",
        "  item_mapper = dict(zip(np.unique(df[item]), list(range(I))))\n",
        "\n",
        "  # Map matrix indices back to IDs\n",
        "  user_inv_mapper = dict(zip(list(range(U)), np.unique(df[user])))\n",
        "  item_inv_mapper = dict(zip(list(range(I)), np.unique(df[item])))\n",
        "\n",
        "  # Create a list of index values for the csr_matrix for users and movies\n",
        "  user_index = [user_mapper[i] for i in df[user]]\n",
        "  item_index = [item_mapper[i] for i in df[item]]\n",
        "\n",
        "  # Build the final matrix which will look like: (movieId, userId) rating\n",
        "  X = csr_matrix((df[rating], (item_index, user_index)), shape=(I, U))\n",
        "\n",
        "  return X, user_mapper, item_mapper, user_inv_mapper, item_inv_mapper"
      ]
    },
    {
      "cell_type": "code",
      "execution_count": 378,
      "metadata": {
        "id": "HN2rvz-Mxcay"
      },
      "outputs": [],
      "source": [
        "X, user_mapper, item_mapper, user_inv_mapper, item_inv_mapper = create_matrix(df_ratings, 'user_id', 'show_id', 'rating')"
      ]
    },
    {
      "cell_type": "code",
      "execution_count": 379,
      "metadata": {
        "colab": {
          "base_uri": "https://localhost:8080/"
        },
        "id": "m9t4il_I056C",
        "outputId": "9cd58c80-a9ec-4fe1-9630-157a9f1198ca"
      },
      "outputs": [
        {
          "name": "stdout",
          "output_type": "stream",
          "text": [
            "<Compressed Sparse Row sparse matrix of dtype 'int64'\n",
            "\twith 2147 stored elements and shape (1809, 200)>\n",
            "  Coords\tValues\n",
            "  (0, 179)\t5\n",
            "  (1, 103)\t3\n",
            "  (2, 67)\t5\n",
            "  (3, 99)\t4\n",
            "  (4, 144)\t5\n",
            "  (5, 158)\t3\n",
            "  (6, 50)\t3\n",
            "  (6, 124)\t3\n",
            "  (7, 171)\t5\n",
            "  (8, 19)\t5\n",
            "  (8, 78)\t5\n",
            "  (8, 138)\t4\n",
            "  (9, 4)\t5\n",
            "  (9, 160)\t4\n",
            "  (10, 176)\t5\n",
            "  (11, 121)\t3\n",
            "  (12, 112)\t3\n",
            "  (13, 136)\t4\n",
            "  (14, 78)\t5\n",
            "  (15, 132)\t3\n",
            "  (16, 142)\t4\n",
            "  (16, 193)\t4\n",
            "  (17, 52)\t4\n",
            "  (18, 53)\t3\n",
            "  (18, 54)\t4\n",
            "  :\t:\n",
            "  (1785, 28)\t5\n",
            "  (1786, 180)\t3\n",
            "  (1787, 1)\t3\n",
            "  (1788, 151)\t3\n",
            "  (1789, 47)\t4\n",
            "  (1789, 165)\t3\n",
            "  (1790, 24)\t4\n",
            "  (1791, 148)\t3\n",
            "  (1792, 35)\t4\n",
            "  (1793, 30)\t4\n",
            "  (1794, 166)\t4\n",
            "  (1795, 142)\t4\n",
            "  (1796, 110)\t4\n",
            "  (1797, 69)\t3\n",
            "  (1798, 175)\t3\n",
            "  (1799, 65)\t4\n",
            "  (1800, 180)\t3\n",
            "  (1801, 170)\t5\n",
            "  (1802, 155)\t4\n",
            "  (1803, 125)\t5\n",
            "  (1804, 184)\t5\n",
            "  (1805, 40)\t5\n",
            "  (1806, 33)\t5\n",
            "  (1807, 33)\t3\n",
            "  (1808, 120)\t5\n",
            "\n",
            "{np.int64(1): 0, np.int64(2): 1, np.int64(3): 2, np.int64(4): 3, np.int64(5): 4, np.int64(6): 5, np.int64(7): 6, np.int64(8): 7, np.int64(9): 8, np.int64(10): 9, np.int64(11): 10, np.int64(12): 11, np.int64(13): 12, np.int64(14): 13, np.int64(15): 14, np.int64(16): 15, np.int64(17): 16, np.int64(18): 17, np.int64(19): 18, np.int64(20): 19, np.int64(21): 20, np.int64(22): 21, np.int64(23): 22, np.int64(24): 23, np.int64(25): 24, np.int64(26): 25, np.int64(27): 26, np.int64(28): 27, np.int64(29): 28, np.int64(30): 29, np.int64(31): 30, np.int64(32): 31, np.int64(33): 32, np.int64(34): 33, np.int64(35): 34, np.int64(36): 35, np.int64(37): 36, np.int64(38): 37, np.int64(39): 38, np.int64(40): 39, np.int64(41): 40, np.int64(42): 41, np.int64(43): 42, np.int64(44): 43, np.int64(45): 44, np.int64(46): 45, np.int64(47): 46, np.int64(48): 47, np.int64(49): 48, np.int64(50): 49, np.int64(51): 50, np.int64(52): 51, np.int64(53): 52, np.int64(54): 53, np.int64(55): 54, np.int64(56): 55, np.int64(57): 56, np.int64(58): 57, np.int64(59): 58, np.int64(60): 59, np.int64(61): 60, np.int64(62): 61, np.int64(63): 62, np.int64(64): 63, np.int64(65): 64, np.int64(66): 65, np.int64(67): 66, np.int64(68): 67, np.int64(69): 68, np.int64(70): 69, np.int64(71): 70, np.int64(72): 71, np.int64(73): 72, np.int64(74): 73, np.int64(75): 74, np.int64(76): 75, np.int64(77): 76, np.int64(78): 77, np.int64(79): 78, np.int64(80): 79, np.int64(81): 80, np.int64(82): 81, np.int64(83): 82, np.int64(84): 83, np.int64(85): 84, np.int64(86): 85, np.int64(87): 86, np.int64(88): 87, np.int64(89): 88, np.int64(90): 89, np.int64(91): 90, np.int64(92): 91, np.int64(93): 92, np.int64(94): 93, np.int64(95): 94, np.int64(96): 95, np.int64(97): 96, np.int64(98): 97, np.int64(99): 98, np.int64(100): 99, np.int64(101): 100, np.int64(102): 101, np.int64(103): 102, np.int64(104): 103, np.int64(105): 104, np.int64(106): 105, np.int64(107): 106, np.int64(108): 107, np.int64(109): 108, np.int64(110): 109, np.int64(111): 110, np.int64(112): 111, np.int64(113): 112, np.int64(114): 113, np.int64(115): 114, np.int64(116): 115, np.int64(117): 116, np.int64(118): 117, np.int64(119): 118, np.int64(120): 119, np.int64(121): 120, np.int64(122): 121, np.int64(123): 122, np.int64(124): 123, np.int64(125): 124, np.int64(126): 125, np.int64(127): 126, np.int64(128): 127, np.int64(129): 128, np.int64(130): 129, np.int64(131): 130, np.int64(132): 131, np.int64(133): 132, np.int64(134): 133, np.int64(135): 134, np.int64(136): 135, np.int64(137): 136, np.int64(138): 137, np.int64(139): 138, np.int64(140): 139, np.int64(141): 140, np.int64(142): 141, np.int64(143): 142, np.int64(144): 143, np.int64(145): 144, np.int64(146): 145, np.int64(147): 146, np.int64(148): 147, np.int64(149): 148, np.int64(150): 149, np.int64(151): 150, np.int64(152): 151, np.int64(153): 152, np.int64(154): 153, np.int64(155): 154, np.int64(156): 155, np.int64(157): 156, np.int64(158): 157, np.int64(159): 158, np.int64(160): 159, np.int64(161): 160, np.int64(162): 161, np.int64(163): 162, np.int64(164): 163, np.int64(165): 164, np.int64(166): 165, np.int64(167): 166, np.int64(168): 167, np.int64(169): 168, np.int64(170): 169, np.int64(171): 170, np.int64(172): 171, np.int64(173): 172, np.int64(174): 173, np.int64(175): 174, np.int64(176): 175, np.int64(177): 176, np.int64(178): 177, np.int64(179): 178, np.int64(180): 179, np.int64(181): 180, np.int64(182): 181, np.int64(183): 182, np.int64(184): 183, np.int64(185): 184, np.int64(186): 185, np.int64(187): 186, np.int64(188): 187, np.int64(189): 188, np.int64(190): 189, np.int64(191): 190, np.int64(192): 191, np.int64(193): 192, np.int64(194): 193, np.int64(195): 194, np.int64(196): 195, np.int64(197): 196, np.int64(198): 197, np.int64(199): 198, np.int64(200): 199}\n",
            "\n",
            "{0: np.int64(1), 1: np.int64(2), 2: np.int64(3), 3: np.int64(4), 4: np.int64(5), 5: np.int64(6), 6: np.int64(7), 7: np.int64(8), 8: np.int64(9), 9: np.int64(10), 10: np.int64(11), 11: np.int64(12), 12: np.int64(13), 13: np.int64(14), 14: np.int64(15), 15: np.int64(16), 16: np.int64(17), 17: np.int64(18), 18: np.int64(19), 19: np.int64(20), 20: np.int64(21), 21: np.int64(22), 22: np.int64(23), 23: np.int64(24), 24: np.int64(25), 25: np.int64(26), 26: np.int64(27), 27: np.int64(28), 28: np.int64(29), 29: np.int64(30), 30: np.int64(31), 31: np.int64(32), 32: np.int64(33), 33: np.int64(34), 34: np.int64(35), 35: np.int64(36), 36: np.int64(37), 37: np.int64(38), 38: np.int64(39), 39: np.int64(40), 40: np.int64(41), 41: np.int64(42), 42: np.int64(43), 43: np.int64(44), 44: np.int64(45), 45: np.int64(46), 46: np.int64(47), 47: np.int64(48), 48: np.int64(49), 49: np.int64(50), 50: np.int64(51), 51: np.int64(52), 52: np.int64(53), 53: np.int64(54), 54: np.int64(55), 55: np.int64(56), 56: np.int64(57), 57: np.int64(58), 58: np.int64(59), 59: np.int64(60), 60: np.int64(61), 61: np.int64(62), 62: np.int64(63), 63: np.int64(64), 64: np.int64(65), 65: np.int64(66), 66: np.int64(67), 67: np.int64(68), 68: np.int64(69), 69: np.int64(70), 70: np.int64(71), 71: np.int64(72), 72: np.int64(73), 73: np.int64(74), 74: np.int64(75), 75: np.int64(76), 76: np.int64(77), 77: np.int64(78), 78: np.int64(79), 79: np.int64(80), 80: np.int64(81), 81: np.int64(82), 82: np.int64(83), 83: np.int64(84), 84: np.int64(85), 85: np.int64(86), 86: np.int64(87), 87: np.int64(88), 88: np.int64(89), 89: np.int64(90), 90: np.int64(91), 91: np.int64(92), 92: np.int64(93), 93: np.int64(94), 94: np.int64(95), 95: np.int64(96), 96: np.int64(97), 97: np.int64(98), 98: np.int64(99), 99: np.int64(100), 100: np.int64(101), 101: np.int64(102), 102: np.int64(103), 103: np.int64(104), 104: np.int64(105), 105: np.int64(106), 106: np.int64(107), 107: np.int64(108), 108: np.int64(109), 109: np.int64(110), 110: np.int64(111), 111: np.int64(112), 112: np.int64(113), 113: np.int64(114), 114: np.int64(115), 115: np.int64(116), 116: np.int64(117), 117: np.int64(118), 118: np.int64(119), 119: np.int64(120), 120: np.int64(121), 121: np.int64(122), 122: np.int64(123), 123: np.int64(124), 124: np.int64(125), 125: np.int64(126), 126: np.int64(127), 127: np.int64(128), 128: np.int64(129), 129: np.int64(130), 130: np.int64(131), 131: np.int64(132), 132: np.int64(133), 133: np.int64(134), 134: np.int64(135), 135: np.int64(136), 136: np.int64(137), 137: np.int64(138), 138: np.int64(139), 139: np.int64(140), 140: np.int64(141), 141: np.int64(142), 142: np.int64(143), 143: np.int64(144), 144: np.int64(145), 145: np.int64(146), 146: np.int64(147), 147: np.int64(148), 148: np.int64(149), 149: np.int64(150), 150: np.int64(151), 151: np.int64(152), 152: np.int64(153), 153: np.int64(154), 154: np.int64(155), 155: np.int64(156), 156: np.int64(157), 157: np.int64(158), 158: np.int64(159), 159: np.int64(160), 160: np.int64(161), 161: np.int64(162), 162: np.int64(163), 163: np.int64(164), 164: np.int64(165), 165: np.int64(166), 166: np.int64(167), 167: np.int64(168), 168: np.int64(169), 169: np.int64(170), 170: np.int64(171), 171: np.int64(172), 172: np.int64(173), 173: np.int64(174), 174: np.int64(175), 175: np.int64(176), 176: np.int64(177), 177: np.int64(178), 178: np.int64(179), 179: np.int64(180), 180: np.int64(181), 181: np.int64(182), 182: np.int64(183), 183: np.int64(184), 184: np.int64(185), 185: np.int64(186), 186: np.int64(187), 187: np.int64(188), 188: np.int64(189), 189: np.int64(190), 190: np.int64(191), 191: np.int64(192), 192: np.int64(193), 193: np.int64(194), 194: np.int64(195), 195: np.int64(196), 196: np.int64(197), 197: np.int64(198), 198: np.int64(199), 199: np.int64(200)}\n",
            "\n",
            "{'s1004': 0, 's1005': 1, 's1006': 2, 's1007': 3, 's1018': 4, 's1028': 5, 's1037': 6, 's1040': 7, 's1041': 8, 's1060': 9, 's1061': 10, 's1063': 11, 's1068': 12, 's1073': 13, 's1078': 14, 's1079': 15, 's1080': 16, 's1081': 17, 's1083': 18, 's1085': 19, 's1087': 20, 's1096': 21, 's11': 22, 's1102': 23, 's1109': 24, 's1114': 25, 's1115': 26, 's1119': 27, 's1128': 28, 's1134': 29, 's1138': 30, 's1144': 31, 's1146': 32, 's1147': 33, 's1148': 34, 's115': 35, 's1157': 36, 's116': 37, 's1173': 38, 's1174': 39, 's1187': 40, 's119': 41, 's1191': 42, 's1195': 43, 's12': 44, 's120': 45, 's1207': 46, 's1208': 47, 's1211': 48, 's1216': 49, 's1221': 50, 's1226': 51, 's1231': 52, 's124': 53, 's1256': 54, 's1257': 55, 's1261': 56, 's1269': 57, 's127': 58, 's1276': 59, 's1277': 60, 's1288': 61, 's1290': 62, 's1300': 63, 's1303': 64, 's1306': 65, 's131': 66, 's1318': 67, 's1323': 68, 's1325': 69, 's1333': 70, 's1335': 71, 's1336': 72, 's1339': 73, 's1350': 74, 's1357': 75, 's1363': 76, 's1365': 77, 's1366': 78, 's1373': 79, 's1374': 80, 's1377': 81, 's1378': 82, 's1384': 83, 's1402': 84, 's1403': 85, 's1409': 86, 's1416': 87, 's1420': 88, 's1429': 89, 's1430': 90, 's1433': 91, 's1438': 92, 's1448': 93, 's1449': 94, 's1454': 95, 's1455': 96, 's1457': 97, 's146': 98, 's1461': 99, 's1463': 100, 's1465': 101, 's1466': 102, 's1468': 103, 's1474': 104, 's1479': 105, 's1484': 106, 's1488': 107, 's1492': 108, 's1493': 109, 's1515': 110, 's1517': 111, 's1524': 112, 's1526': 113, 's1530': 114, 's1533': 115, 's1534': 116, 's1540': 117, 's1547': 118, 's155': 119, 's1553': 120, 's1555': 121, 's1563': 122, 's1567': 123, 's1571': 124, 's1574': 125, 's1580': 126, 's1581': 127, 's1584': 128, 's1586': 129, 's1594': 130, 's1599': 131, 's1602': 132, 's1607': 133, 's162': 134, 's1627': 135, 's1629': 136, 's1630': 137, 's1635': 138, 's1636': 139, 's1642': 140, 's1644': 141, 's1659': 142, 's166': 143, 's1669': 144, 's167': 145, 's1673': 146, 's1674': 147, 's1675': 148, 's1681': 149, 's1689': 150, 's169': 151, 's1690': 152, 's1691': 153, 's1692': 154, 's1696': 155, 's1697': 156, 's1699': 157, 's1700': 158, 's1702': 159, 's1707': 160, 's1715': 161, 's1717': 162, 's1731': 163, 's1744': 164, 's175': 165, 's1753': 166, 's1757': 167, 's177': 168, 's1771': 169, 's1776': 170, 's178': 171, 's1783': 172, 's179': 173, 's1793': 174, 's1795': 175, 's18': 176, 's180': 177, 's1801': 178, 's1808': 179, 's181': 180, 's1810': 181, 's1811': 182, 's1814': 183, 's1818': 184, 's1819': 185, 's1826': 186, 's1834': 187, 's1840': 188, 's1841': 189, 's1842': 190, 's1844': 191, 's1851': 192, 's1852': 193, 's1854': 194, 's1855': 195, 's1859': 196, 's187': 197, 's1874': 198, 's1879': 199, 's188': 200, 's1896': 201, 's190': 202, 's1906': 203, 's1911': 204, 's1917': 205, 's1921': 206, 's1924': 207, 's1926': 208, 's1927': 209, 's1929': 210, 's193': 211, 's1930': 212, 's1936': 213, 's1939': 214, 's1940': 215, 's1941': 216, 's1947': 217, 's1948': 218, 's1949': 219, 's1950': 220, 's1952': 221, 's1958': 222, 's1966': 223, 's1971': 224, 's1972': 225, 's1979': 226, 's1980': 227, 's1981': 228, 's1982': 229, 's1985': 230, 's1989': 231, 's1991': 232, 's1994': 233, 's2': 234, 's20': 235, 's2002': 236, 's2003': 237, 's2005': 238, 's2007': 239, 's2008': 240, 's2020': 241, 's2038': 242, 's2043': 243, 's2048': 244, 's2055': 245, 's2058': 246, 's206': 247, 's2062': 248, 's2067': 249, 's2068': 250, 's2069': 251, 's2072': 252, 's2074': 253, 's2087': 254, 's2103': 255, 's2107': 256, 's2114': 257, 's2115': 258, 's2116': 259, 's2122': 260, 's2123': 261, 's2125': 262, 's2128': 263, 's2129': 264, 's2135': 265, 's214': 266, 's2142': 267, 's2143': 268, 's2145': 269, 's2149': 270, 's2153': 271, 's2166': 272, 's2171': 273, 's2175': 274, 's2176': 275, 's2179': 276, 's2180': 277, 's2181': 278, 's2186': 279, 's2191': 280, 's2196': 281, 's22': 282, 's220': 283, 's2203': 284, 's2208': 285, 's2213': 286, 's2223': 287, 's2237': 288, 's224': 289, 's2246': 290, 's2247': 291, 's2248': 292, 's225': 293, 's2254': 294, 's2255': 295, 's2259': 296, 's2269': 297, 's2273': 298, 's2275': 299, 's2285': 300, 's2289': 301, 's229': 302, 's2294': 303, 's2307': 304, 's2310': 305, 's2314': 306, 's2320': 307, 's2323': 308, 's2325': 309, 's2333': 310, 's234': 311, 's2343': 312, 's235': 313, 's2350': 314, 's2355': 315, 's2358': 316, 's2359': 317, 's2361': 318, 's2362': 319, 's2363': 320, 's2368': 321, 's237': 322, 's2372': 323, 's2376': 324, 's2378': 325, 's2379': 326, 's2381': 327, 's2383': 328, 's2389': 329, 's2391': 330, 's2394': 331, 's24': 332, 's2402': 333, 's241': 334, 's2412': 335, 's2418': 336, 's242': 337, 's2420': 338, 's243': 339, 's2432': 340, 's2433': 341, 's244': 342, 's2441': 343, 's2448': 344, 's2449': 345, 's2450': 346, 's2453': 347, 's2455': 348, 's246': 349, 's2464': 350, 's2465': 351, 's2469': 352, 's2471': 353, 's2472': 354, 's2480': 355, 's2484': 356, 's2487': 357, 's2489': 358, 's249': 359, 's2498': 360, 's2500': 361, 's2501': 362, 's2509': 363, 's251': 364, 's2513': 365, 's2515': 366, 's2516': 367, 's2519': 368, 's2523': 369, 's2525': 370, 's2526': 371, 's2533': 372, 's2546': 373, 's2549': 374, 's2552': 375, 's2562': 376, 's2564': 377, 's2568': 378, 's2569': 379, 's2570': 380, 's2575': 381, 's2577': 382, 's2593': 383, 's2594': 384, 's26': 385, 's2602': 386, 's2604': 387, 's2613': 388, 's2622': 389, 's263': 390, 's2636': 391, 's2637': 392, 's264': 393, 's2645': 394, 's2646': 395, 's2658': 396, 's267': 397, 's2671': 398, 's268': 399, 's2685': 400, 's2688': 401, 's2692': 402, 's2695': 403, 's2699': 404, 's2704': 405, 's2706': 406, 's2711': 407, 's2721': 408, 's2731': 409, 's2737': 410, 's2752': 411, 's276': 412, 's2762': 413, 's2768': 414, 's2775': 415, 's2784': 416, 's2792': 417, 's2794': 418, 's2795': 419, 's2796': 420, 's2798': 421, 's280': 422, 's2800': 423, 's2811': 424, 's2812': 425, 's2827': 426, 's2830': 427, 's2836': 428, 's2841': 429, 's2845': 430, 's2850': 431, 's2853': 432, 's2855': 433, 's2863': 434, 's2864': 435, 's2867': 436, 's2877': 437, 's2879': 438, 's288': 439, 's2886': 440, 's2888': 441, 's289': 442, 's2894': 443, 's2909': 444, 's2916': 445, 's2917': 446, 's2918': 447, 's2922': 448, 's2923': 449, 's2924': 450, 's2928': 451, 's2932': 452, 's2933': 453, 's294': 454, 's2942': 455, 's2952': 456, 's2954': 457, 's2958': 458, 's2960': 459, 's297': 460, 's2972': 461, 's2978': 462, 's2979': 463, 's2985': 464, 's2991': 465, 's2992': 466, 's2995': 467, 's2998': 468, 's30': 469, 's3002': 470, 's301': 471, 's3011': 472, 's3020': 473, 's3021': 474, 's3025': 475, 's3031': 476, 's3033': 477, 's3041': 478, 's3048': 479, 's3051': 480, 's3054': 481, 's3061': 482, 's3066': 483, 's3067': 484, 's3070': 485, 's3075': 486, 's3077': 487, 's3088': 488, 's31': 489, 's3104': 490, 's3110': 491, 's3111': 492, 's3120': 493, 's3121': 494, 's3130': 495, 's3131': 496, 's3134': 497, 's3138': 498, 's3139': 499, 's3145': 500, 's3149': 501, 's315': 502, 's3154': 503, 's3158': 504, 's3159': 505, 's3162': 506, 's3163': 507, 's3181': 508, 's3183': 509, 's3186': 510, 's3188': 511, 's3193': 512, 's32': 513, 's3203': 514, 's3210': 515, 's3213': 516, 's322': 517, 's3226': 518, 's3237': 519, 's3239': 520, 's324': 521, 's3243': 522, 's3246': 523, 's3247': 524, 's3248': 525, 's325': 526, 's3250': 527, 's3256': 528, 's3264': 529, 's3267': 530, 's327': 531, 's3272': 532, 's3274': 533, 's3278': 534, 's3281': 535, 's3282': 536, 's3292': 537, 's3294': 538, 's3295': 539, 's3302': 540, 's3329': 541, 's333': 542, 's3337': 543, 's3338': 544, 's3343': 545, 's3350': 546, 's3352': 547, 's3353': 548, 's3359': 549, 's3362': 550, 's3364': 551, 's3367': 552, 's3368': 553, 's3371': 554, 's3380': 555, 's3391': 556, 's3395': 557, 's3416': 558, 's3417': 559, 's3418': 560, 's3421': 561, 's3423': 562, 's3424': 563, 's3425': 564, 's3434': 565, 's3435': 566, 's3443': 567, 's3446': 568, 's3449': 569, 's3450': 570, 's3453': 571, 's3454': 572, 's3455': 573, 's3458': 574, 's3460': 575, 's3462': 576, 's3466': 577, 's3474': 578, 's3477': 579, 's3486': 580, 's3487': 581, 's3492': 582, 's3493': 583, 's3495': 584, 's3498': 585, 's3504': 586, 's3518': 587, 's3522': 588, 's3525': 589, 's3527': 590, 's3551': 591, 's3552': 592, 's3556': 593, 's3561': 594, 's3562': 595, 's3570': 596, 's3579': 597, 's3581': 598, 's3582': 599, 's3583': 600, 's3588': 601, 's359': 602, 's3590': 603, 's36': 604, 's3600': 605, 's3604': 606, 's3605': 607, 's3608': 608, 's3609': 609, 's3613': 610, 's3615': 611, 's3638': 612, 's364': 613, 's3641': 614, 's3643': 615, 's3654': 616, 's3655': 617, 's3664': 618, 's3665': 619, 's3668': 620, 's3673': 621, 's3674': 622, 's3675': 623, 's368': 624, 's3680': 625, 's3686': 626, 's3688': 627, 's3689': 628, 's369': 629, 's3697': 630, 's37': 631, 's370': 632, 's3707': 633, 's3708': 634, 's371': 635, 's3721': 636, 's3723': 637, 's3726': 638, 's3737': 639, 's3738': 640, 's3740': 641, 's3742': 642, 's3749': 643, 's3756': 644, 's376': 645, 's3760': 646, 's3764': 647, 's3765': 648, 's3768': 649, 's3781': 650, 's3788': 651, 's3790': 652, 's3794': 653, 's3801': 654, 's3807': 655, 's3809': 656, 's3814': 657, 's3820': 658, 's3823': 659, 's3824': 660, 's3838': 661, 's3841': 662, 's3847': 663, 's3850': 664, 's3852': 665, 's3866': 666, 's3867': 667, 's3879': 668, 's388': 669, 's3880': 670, 's3881': 671, 's3882': 672, 's3884': 673, 's3885': 674, 's3887': 675, 's3888': 676, 's3892': 677, 's3893': 678, 's3895': 679, 's3897': 680, 's3899': 681, 's3904': 682, 's3908': 683, 's3910': 684, 's3914': 685, 's392': 686, 's3921': 687, 's3929': 688, 's393': 689, 's3931': 690, 's3933': 691, 's3936': 692, 's3937': 693, 's3939': 694, 's3941': 695, 's3950': 696, 's3954': 697, 's3955': 698, 's3957': 699, 's3966': 700, 's397': 701, 's3970': 702, 's3974': 703, 's3975': 704, 's3977': 705, 's3979': 706, 's398': 707, 's3980': 708, 's3981': 709, 's3990': 710, 's3993': 711, 's3995': 712, 's3996': 713, 's3999': 714, 's4': 715, 's400': 716, 's401': 717, 's4014': 718, 's4015': 719, 's4016': 720, 's4023': 721, 's4026': 722, 's4028': 723, 's4030': 724, 's4031': 725, 's4032': 726, 's4033': 727, 's4042': 728, 's4045': 729, 's4047': 730, 's4065': 731, 's4069': 732, 's4071': 733, 's4072': 734, 's4085': 735, 's4089': 736, 's4090': 737, 's4097': 738, 's41': 739, 's4107': 740, 's4111': 741, 's4116': 742, 's4117': 743, 's4119': 744, 's4120': 745, 's4121': 746, 's4125': 747, 's4127': 748, 's4130': 749, 's4131': 750, 's4137': 751, 's4138': 752, 's4140': 753, 's4141': 754, 's4143': 755, 's4145': 756, 's4153': 757, 's4161': 758, 's4164': 759, 's4167': 760, 's4172': 761, 's4184': 762, 's4192': 763, 's42': 764, 's4203': 765, 's4204': 766, 's4208': 767, 's4209': 768, 's4219': 769, 's422': 770, 's4225': 771, 's4229': 772, 's4232': 773, 's4235': 774, 's4237': 775, 's4248': 776, 's4249': 777, 's4253': 778, 's4257': 779, 's4259': 780, 's426': 781, 's4265': 782, 's4266': 783, 's4272': 784, 's4273': 785, 's4275': 786, 's4277': 787, 's4278': 788, 's4290': 789, 's4296': 790, 's4297': 791, 's43': 792, 's4310': 793, 's4312': 794, 's4315': 795, 's4316': 796, 's4321': 797, 's4323': 798, 's4330': 799, 's4331': 800, 's4346': 801, 's4351': 802, 's4357': 803, 's4361': 804, 's4364': 805, 's4367': 806, 's4369': 807, 's437': 808, 's4377': 809, 's4384': 810, 's4386': 811, 's4390': 812, 's4396': 813, 's4401': 814, 's4410': 815, 's4411': 816, 's4412': 817, 's4415': 818, 's4419': 819, 's442': 820, 's4423': 821, 's4425': 822, 's4428': 823, 's443': 824, 's4435': 825, 's4437': 826, 's444': 827, 's4440': 828, 's4447': 829, 's4448': 830, 's4461': 831, 's4471': 832, 's4477': 833, 's4482': 834, 's4484': 835, 's4485': 836, 's4488': 837, 's4489': 838, 's449': 839, 's4490': 840, 's4493': 841, 's4495': 842, 's450': 843, 's4504': 844, 's4512': 845, 's4516': 846, 's452': 847, 's4524': 848, 's4525': 849, 's4530': 850, 's4531': 851, 's4536': 852, 's4537': 853, 's4550': 854, 's4551': 855, 's4552': 856, 's4553': 857, 's4561': 858, 's4564': 859, 's4566': 860, 's4567': 861, 's4571': 862, 's4572': 863, 's458': 864, 's4589': 865, 's459': 866, 's4594': 867, 's4599': 868, 's46': 869, 's460': 870, 's4605': 871, 's4606': 872, 's4611': 873, 's4615': 874, 's4619': 875, 's4622': 876, 's4625': 877, 's4634': 878, 's4636': 879, 's4638': 880, 's4644': 881, 's4646': 882, 's4648': 883, 's4652': 884, 's466': 885, 's4663': 886, 's4672': 887, 's4673': 888, 's4675': 889, 's4676': 890, 's4679': 891, 's4684': 892, 's4686': 893, 's4688': 894, 's4691': 895, 's4692': 896, 's4701': 897, 's4704': 898, 's4707': 899, 's4708': 900, 's4711': 901, 's4712': 902, 's4724': 903, 's4727': 904, 's473': 905, 's4730': 906, 's4738': 907, 's4742': 908, 's4748': 909, 's4750': 910, 's4760': 911, 's4766': 912, 's4768': 913, 's4771': 914, 's4772': 915, 's4776': 916, 's478': 917, 's4781': 918, 's4793': 919, 's4797': 920, 's4798': 921, 's4806': 922, 's481': 923, 's4811': 924, 's4816': 925, 's4819': 926, 's4825': 927, 's4829': 928, 's4834': 929, 's4837': 930, 's4843': 931, 's4846': 932, 's4847': 933, 's4853': 934, 's4858': 935, 's4860': 936, 's4866': 937, 's4868': 938, 's487': 939, 's4870': 940, 's4872': 941, 's4882': 942, 's4901': 943, 's4905': 944, 's4906': 945, 's4907': 946, 's4909': 947, 's4910': 948, 's4914': 949, 's492': 950, 's4920': 951, 's4922': 952, 's493': 953, 's4937': 954, 's4938': 955, 's494': 956, 's4942': 957, 's4948': 958, 's4950': 959, 's4952': 960, 's4953': 961, 's4958': 962, 's496': 963, 's4960': 964, 's4961': 965, 's4969': 966, 's4979': 967, 's4981': 968, 's4983': 969, 's4985': 970, 's4986': 971, 's4989': 972, 's4991': 973, 's4999': 974, 's5': 975, 's5003': 976, 's5005': 977, 's5012': 978, 's5013': 979, 's5014': 980, 's5015': 981, 's5028': 982, 's5035': 983, 's5036': 984, 's5037': 985, 's5038': 986, 's5046': 987, 's5059': 988, 's5061': 989, 's5070': 990, 's5074': 991, 's5075': 992, 's5078': 993, 's5081': 994, 's5096': 995, 's5098': 996, 's5100': 997, 's5104': 998, 's5108': 999, 's5111': 1000, 's5113': 1001, 's5116': 1002, 's5122': 1003, 's5125': 1004, 's5129': 1005, 's5134': 1006, 's5136': 1007, 's5137': 1008, 's515': 1009, 's5160': 1010, 's5170': 1011, 's5181': 1012, 's5184': 1013, 's5192': 1014, 's5196': 1015, 's5206': 1016, 's5211': 1017, 's5216': 1018, 's5219': 1019, 's5232': 1020, 's5237': 1021, 's5238': 1022, 's524': 1023, 's5240': 1024, 's5245': 1025, 's5246': 1026, 's5248': 1027, 's5256': 1028, 's5263': 1029, 's5267': 1030, 's5275': 1031, 's5279': 1032, 's5281': 1033, 's5288': 1034, 's5290': 1035, 's5293': 1036, 's5297': 1037, 's5301': 1038, 's5303': 1039, 's5305': 1040, 's5310': 1041, 's532': 1042, 's5327': 1043, 's533': 1044, 's5331': 1045, 's5335': 1046, 's5341': 1047, 's5348': 1048, 's5351': 1049, 's5354': 1050, 's5355': 1051, 's5357': 1052, 's5362': 1053, 's5364': 1054, 's5366': 1055, 's5370': 1056, 's5383': 1057, 's5384': 1058, 's5389': 1059, 's539': 1060, 's5396': 1061, 's5398': 1062, 's5399': 1063, 's540': 1064, 's5402': 1065, 's5410': 1066, 's5411': 1067, 's5413': 1068, 's542': 1069, 's5429': 1070, 's5430': 1071, 's5436': 1072, 's5438': 1073, 's544': 1074, 's5440': 1075, 's5445': 1076, 's5448': 1077, 's545': 1078, 's5451': 1079, 's5456': 1080, 's5471': 1081, 's5480': 1082, 's5481': 1083, 's5482': 1084, 's5484': 1085, 's5489': 1086, 's5492': 1087, 's5497': 1088, 's5509': 1089, 's5511': 1090, 's552': 1091, 's5525': 1092, 's5529': 1093, 's554': 1094, 's5540': 1095, 's5549': 1096, 's557': 1097, 's5571': 1098, 's5581': 1099, 's559': 1100, 's5592': 1101, 's5597': 1102, 's5599': 1103, 's5601': 1104, 's5604': 1105, 's561': 1106, 's5619': 1107, 's563': 1108, 's5631': 1109, 's5639': 1110, 's564': 1111, 's5640': 1112, 's5641': 1113, 's5649': 1114, 's5651': 1115, 's566': 1116, 's5666': 1117, 's5672': 1118, 's5675': 1119, 's5676': 1120, 's5678': 1121, 's568': 1122, 's5682': 1123, 's5685': 1124, 's5691': 1125, 's5693': 1126, 's5695': 1127, 's5699': 1128, 's57': 1129, 's5701': 1130, 's5732': 1131, 's5733': 1132, 's5744': 1133, 's5745': 1134, 's5750': 1135, 's5752': 1136, 's5754': 1137, 's5763': 1138, 's5764': 1139, 's5769': 1140, 's5777': 1141, 's5779': 1142, 's5783': 1143, 's58': 1144, 's5803': 1145, 's5808': 1146, 's582': 1147, 's5821': 1148, 's5829': 1149, 's5843': 1150, 's5845': 1151, 's5846': 1152, 's5854': 1153, 's5855': 1154, 's5857': 1155, 's5858': 1156, 's5881': 1157, 's5883': 1158, 's5889': 1159, 's5899': 1160, 's59': 1161, 's5905': 1162, 's5909': 1163, 's591': 1164, 's5916': 1165, 's5920': 1166, 's5928': 1167, 's5935': 1168, 's5941': 1169, 's5942': 1170, 's5946': 1171, 's5948': 1172, 's595': 1173, 's5954': 1174, 's5955': 1175, 's5964': 1176, 's5967': 1177, 's597': 1178, 's5974': 1179, 's5977': 1180, 's598': 1181, 's5981': 1182, 's5985': 1183, 's5992': 1184, 's5995': 1185, 's5999': 1186, 's6': 1187, 's6016': 1188, 's6026': 1189, 's6033': 1190, 's6041': 1191, 's6050': 1192, 's6054': 1193, 's6068': 1194, 's6077': 1195, 's6079': 1196, 's6081': 1197, 's6088': 1198, 's6092': 1199, 's61': 1200, 's6101': 1201, 's6103': 1202, 's6105': 1203, 's6110': 1204, 's6111': 1205, 's6112': 1206, 's6116': 1207, 's6118': 1208, 's6128': 1209, 's6138': 1210, 's6150': 1211, 's6157': 1212, 's6158': 1213, 's6162': 1214, 's6167': 1215, 's6178': 1216, 's6181': 1217, 's6185': 1218, 's6188': 1219, 's619': 1220, 's6195': 1221, 's6199': 1222, 's62': 1223, 's6209': 1224, 's6218': 1225, 's6219': 1226, 's6221': 1227, 's6239': 1228, 's6240': 1229, 's6245': 1230, 's6247': 1231, 's6251': 1232, 's6254': 1233, 's6264': 1234, 's6278': 1235, 's628': 1236, 's6281': 1237, 's6284': 1238, 's6290': 1239, 's6293': 1240, 's6298': 1241, 's6300': 1242, 's6301': 1243, 's6302': 1244, 's6306': 1245, 's6313': 1246, 's6316': 1247, 's6319': 1248, 's632': 1249, 's6324': 1250, 's6343': 1251, 's6345': 1252, 's635': 1253, 's6352': 1254, 's6354': 1255, 's6356': 1256, 's6358': 1257, 's6359': 1258, 's637': 1259, 's6373': 1260, 's6375': 1261, 's6386': 1262, 's6388': 1263, 's6390': 1264, 's6399': 1265, 's64': 1266, 's640': 1267, 's6405': 1268, 's6409': 1269, 's6420': 1270, 's6424': 1271, 's6425': 1272, 's6427': 1273, 's643': 1274, 's6445': 1275, 's6446': 1276, 's6448': 1277, 's6449': 1278, 's6450': 1279, 's6452': 1280, 's6465': 1281, 's6474': 1282, 's6476': 1283, 's6481': 1284, 's6488': 1285, 's6502': 1286, 's6506': 1287, 's6508': 1288, 's6510': 1289, 's6515': 1290, 's6521': 1291, 's6543': 1292, 's655': 1293, 's6557': 1294, 's6564': 1295, 's6568': 1296, 's6569': 1297, 's657': 1298, 's6573': 1299, 's6587': 1300, 's6592': 1301, 's6599': 1302, 's660': 1303, 's6601': 1304, 's6604': 1305, 's6607': 1306, 's6608': 1307, 's6614': 1308, 's662': 1309, 's6635': 1310, 's6636': 1311, 's6647': 1312, 's6648': 1313, 's6652': 1314, 's6658': 1315, 's666': 1316, 's6660': 1317, 's6664': 1318, 's667': 1319, 's6672': 1320, 's6673': 1321, 's6674': 1322, 's6676': 1323, 's669': 1324, 's670': 1325, 's6702': 1326, 's671': 1327, 's6711': 1328, 's6713': 1329, 's6718': 1330, 's6729': 1331, 's6733': 1332, 's6735': 1333, 's674': 1334, 's6741': 1335, 's6743': 1336, 's6744': 1337, 's6751': 1338, 's6754': 1339, 's6755': 1340, 's6764': 1341, 's6777': 1342, 's6786': 1343, 's6788': 1344, 's679': 1345, 's6803': 1346, 's6805': 1347, 's6819': 1348, 's6831': 1349, 's6835': 1350, 's6839': 1351, 's6843': 1352, 's6844': 1353, 's6847': 1354, 's6851': 1355, 's6858': 1356, 's6861': 1357, 's6865': 1358, 's687': 1359, 's6874': 1360, 's6881': 1361, 's6890': 1362, 's6901': 1363, 's6904': 1364, 's6908': 1365, 's6918': 1366, 's693': 1367, 's6931': 1368, 's6933': 1369, 's6938': 1370, 's694': 1371, 's6940': 1372, 's6942': 1373, 's6944': 1374, 's6947': 1375, 's6950': 1376, 's6952': 1377, 's6958': 1378, 's6964': 1379, 's6966': 1380, 's6971': 1381, 's6975': 1382, 's698': 1383, 's6987': 1384, 's6996': 1385, 's700': 1386, 's7007': 1387, 's701': 1388, 's7017': 1389, 's7023': 1390, 's7026': 1391, 's7029': 1392, 's7039': 1393, 's7040': 1394, 's7050': 1395, 's7054': 1396, 's7055': 1397, 's707': 1398, 's7070': 1399, 's7071': 1400, 's7072': 1401, 's7079': 1402, 's7081': 1403, 's7082': 1404, 's7088': 1405, 's7090': 1406, 's7095': 1407, 's710': 1408, 's7105': 1409, 's7119': 1410, 's7121': 1411, 's7126': 1412, 's7128': 1413, 's7131': 1414, 's7143': 1415, 's7148': 1416, 's7152': 1417, 's7153': 1418, 's7165': 1419, 's7170': 1420, 's7176': 1421, 's7177': 1422, 's7181': 1423, 's7182': 1424, 's7188': 1425, 's7204': 1426, 's721': 1427, 's7210': 1428, 's7223': 1429, 's7224': 1430, 's7228': 1431, 's7244': 1432, 's7246': 1433, 's7259': 1434, 's7265': 1435, 's7267': 1436, 's7269': 1437, 's7280': 1438, 's7285': 1439, 's7289': 1440, 's7291': 1441, 's7296': 1442, 's7299': 1443, 's73': 1444, 's7303': 1445, 's7307': 1446, 's7311': 1447, 's7331': 1448, 's7342': 1449, 's7350': 1450, 's7353': 1451, 's7355': 1452, 's7360': 1453, 's7361': 1454, 's7378': 1455, 's7379': 1456, 's7382': 1457, 's7383': 1458, 's739': 1459, 's7390': 1460, 's7393': 1461, 's7403': 1462, 's7416': 1463, 's7417': 1464, 's7418': 1465, 's7419': 1466, 's7421': 1467, 's7431': 1468, 's7434': 1469, 's7436': 1470, 's7439': 1471, 's7447': 1472, 's745': 1473, 's7466': 1474, 's7469': 1475, 's7484': 1476, 's7493': 1477, 's7497': 1478, 's7498': 1479, 's750': 1480, 's7500': 1481, 's7505': 1482, 's7506': 1483, 's7511': 1484, 's7522': 1485, 's7526': 1486, 's7527': 1487, 's7531': 1488, 's7534': 1489, 's7536': 1490, 's7541': 1491, 's7544': 1492, 's7548': 1493, 's7554': 1494, 's7555': 1495, 's7560': 1496, 's7570': 1497, 's7572': 1498, 's7575': 1499, 's758': 1500, 's7588': 1501, 's7589': 1502, 's7595': 1503, 's7599': 1504, 's7600': 1505, 's7613': 1506, 's7623': 1507, 's7624': 1508, 's7626': 1509, 's7629': 1510, 's763': 1511, 's7635': 1512, 's7637': 1513, 's764': 1514, 's7641': 1515, 's7642': 1516, 's7647': 1517, 's7651': 1518, 's7656': 1519, 's7673': 1520, 's7682': 1521, 's7685': 1522, 's7690': 1523, 's7695': 1524, 's7700': 1525, 's771': 1526, 's7711': 1527, 's7713': 1528, 's7719': 1529, 's772': 1530, 's7721': 1531, 's7726': 1532, 's7730': 1533, 's7731': 1534, 's7733': 1535, 's7738': 1536, 's7739': 1537, 's7743': 1538, 's7748': 1539, 's775': 1540, 's7750': 1541, 's7752': 1542, 's7759': 1543, 's7762': 1544, 's777': 1545, 's7778': 1546, 's7783': 1547, 's779': 1548, 's7796': 1549, 's7797': 1550, 's7799': 1551, 's7807': 1552, 's7808': 1553, 's7817': 1554, 's7828': 1555, 's7832': 1556, 's7839': 1557, 's7840': 1558, 's7843': 1559, 's7845': 1560, 's7848': 1561, 's7857': 1562, 's7858': 1563, 's7863': 1564, 's7864': 1565, 's7866': 1566, 's7868': 1567, 's7871': 1568, 's7876': 1569, 's7883': 1570, 's7895': 1571, 's790': 1572, 's7903': 1573, 's7929': 1574, 's7935': 1575, 's794': 1576, 's7941': 1577, 's7943': 1578, 's7954': 1579, 's7955': 1580, 's7966': 1581, 's7968': 1582, 's7969': 1583, 's7982': 1584, 's7985': 1585, 's799': 1586, 's7992': 1587, 's8002': 1588, 's801': 1589, 's8014': 1590, 's8019': 1591, 's8022': 1592, 's8023': 1593, 's8025': 1594, 's8031': 1595, 's8032': 1596, 's8038': 1597, 's8055': 1598, 's8057': 1599, 's8059': 1600, 's806': 1601, 's8060': 1602, 's8079': 1603, 's8083': 1604, 's8084': 1605, 's8090': 1606, 's8093': 1607, 's8094': 1608, 's8105': 1609, 's811': 1610, 's8125': 1611, 's8129': 1612, 's8132': 1613, 's8135': 1614, 's8138': 1615, 's8139': 1616, 's8140': 1617, 's8141': 1618, 's8148': 1619, 's8152': 1620, 's8155': 1621, 's8161': 1622, 's8173': 1623, 's8175': 1624, 's8180': 1625, 's8182': 1626, 's8186': 1627, 's8187': 1628, 's8190': 1629, 's8195': 1630, 's8199': 1631, 's820': 1632, 's8203': 1633, 's8204': 1634, 's8205': 1635, 's8207': 1636, 's8209': 1637, 's821': 1638, 's8210': 1639, 's8218': 1640, 's822': 1641, 's8221': 1642, 's8222': 1643, 's8228': 1644, 's8235': 1645, 's8238': 1646, 's8249': 1647, 's8260': 1648, 's8261': 1649, 's8262': 1650, 's8265': 1651, 's827': 1652, 's8276': 1653, 's8277': 1654, 's8278': 1655, 's828': 1656, 's8292': 1657, 's8294': 1658, 's8299': 1659, 's8300': 1660, 's8306': 1661, 's831': 1662, 's8310': 1663, 's832': 1664, 's8329': 1665, 's8331': 1666, 's8333': 1667, 's834': 1668, 's8340': 1669, 's8343': 1670, 's8347': 1671, 's835': 1672, 's8351': 1673, 's8354': 1674, 's8359': 1675, 's836': 1676, 's8362': 1677, 's8369': 1678, 's8380': 1679, 's8381': 1680, 's8382': 1681, 's8383': 1682, 's8385': 1683, 's8393': 1684, 's8395': 1685, 's8399': 1686, 's8402': 1687, 's8404': 1688, 's8412': 1689, 's842': 1690, 's8427': 1691, 's8436': 1692, 's8437': 1693, 's8438': 1694, 's8439': 1695, 's844': 1696, 's8461': 1697, 's8466': 1698, 's8467': 1699, 's8477': 1700, 's848': 1701, 's8484': 1702, 's8486': 1703, 's8487': 1704, 's849': 1705, 's8490': 1706, 's8492': 1707, 's8497': 1708, 's850': 1709, 's851': 1710, 's8513': 1711, 's8514': 1712, 's8515': 1713, 's8521': 1714, 's8523': 1715, 's8527': 1716, 's8528': 1717, 's8532': 1718, 's8534': 1719, 's8545': 1720, 's8548': 1721, 's8551': 1722, 's856': 1723, 's8563': 1724, 's8568': 1725, 's8575': 1726, 's8577': 1727, 's8580': 1728, 's8582': 1729, 's8595': 1730, 's8597': 1731, 's8605': 1732, 's8613': 1733, 's8623': 1734, 's8624': 1735, 's8626': 1736, 's8627': 1737, 's8630': 1738, 's8636': 1739, 's8640': 1740, 's8643': 1741, 's8644': 1742, 's8646': 1743, 's8650': 1744, 's8653': 1745, 's8654': 1746, 's8658': 1747, 's8669': 1748, 's8685': 1749, 's8687': 1750, 's8689': 1751, 's8694': 1752, 's8698': 1753, 's8701': 1754, 's8704': 1755, 's8712': 1756, 's8713': 1757, 's8714': 1758, 's872': 1759, 's8724': 1760, 's8732': 1761, 's8743': 1762, 's8750': 1763, 's8755': 1764, 's8756': 1765, 's876': 1766, 's8762': 1767, 's8763': 1768, 's8766': 1769, 's8771': 1770, 's8782': 1771, 's8784': 1772, 's8787': 1773, 's8796': 1774, 's88': 1775, 's880': 1776, 's8804': 1777, 's8805': 1778, 's8807': 1779, 's881': 1780, 's883': 1781, 's884': 1782, 's887': 1783, 's898': 1784, 's90': 1785, 's906': 1786, 's909': 1787, 's910': 1788, 's914': 1789, 's915': 1790, 's92': 1791, 's920': 1792, 's925': 1793, 's928': 1794, 's934': 1795, 's936': 1796, 's937': 1797, 's953': 1798, 's962': 1799, 's966': 1800, 's968': 1801, 's973': 1802, 's977': 1803, 's98': 1804, 's985': 1805, 's988': 1806, 's990': 1807, 's994': 1808}\n",
            "\n",
            "{0: 's1004', 1: 's1005', 2: 's1006', 3: 's1007', 4: 's1018', 5: 's1028', 6: 's1037', 7: 's1040', 8: 's1041', 9: 's1060', 10: 's1061', 11: 's1063', 12: 's1068', 13: 's1073', 14: 's1078', 15: 's1079', 16: 's1080', 17: 's1081', 18: 's1083', 19: 's1085', 20: 's1087', 21: 's1096', 22: 's11', 23: 's1102', 24: 's1109', 25: 's1114', 26: 's1115', 27: 's1119', 28: 's1128', 29: 's1134', 30: 's1138', 31: 's1144', 32: 's1146', 33: 's1147', 34: 's1148', 35: 's115', 36: 's1157', 37: 's116', 38: 's1173', 39: 's1174', 40: 's1187', 41: 's119', 42: 's1191', 43: 's1195', 44: 's12', 45: 's120', 46: 's1207', 47: 's1208', 48: 's1211', 49: 's1216', 50: 's1221', 51: 's1226', 52: 's1231', 53: 's124', 54: 's1256', 55: 's1257', 56: 's1261', 57: 's1269', 58: 's127', 59: 's1276', 60: 's1277', 61: 's1288', 62: 's1290', 63: 's1300', 64: 's1303', 65: 's1306', 66: 's131', 67: 's1318', 68: 's1323', 69: 's1325', 70: 's1333', 71: 's1335', 72: 's1336', 73: 's1339', 74: 's1350', 75: 's1357', 76: 's1363', 77: 's1365', 78: 's1366', 79: 's1373', 80: 's1374', 81: 's1377', 82: 's1378', 83: 's1384', 84: 's1402', 85: 's1403', 86: 's1409', 87: 's1416', 88: 's1420', 89: 's1429', 90: 's1430', 91: 's1433', 92: 's1438', 93: 's1448', 94: 's1449', 95: 's1454', 96: 's1455', 97: 's1457', 98: 's146', 99: 's1461', 100: 's1463', 101: 's1465', 102: 's1466', 103: 's1468', 104: 's1474', 105: 's1479', 106: 's1484', 107: 's1488', 108: 's1492', 109: 's1493', 110: 's1515', 111: 's1517', 112: 's1524', 113: 's1526', 114: 's1530', 115: 's1533', 116: 's1534', 117: 's1540', 118: 's1547', 119: 's155', 120: 's1553', 121: 's1555', 122: 's1563', 123: 's1567', 124: 's1571', 125: 's1574', 126: 's1580', 127: 's1581', 128: 's1584', 129: 's1586', 130: 's1594', 131: 's1599', 132: 's1602', 133: 's1607', 134: 's162', 135: 's1627', 136: 's1629', 137: 's1630', 138: 's1635', 139: 's1636', 140: 's1642', 141: 's1644', 142: 's1659', 143: 's166', 144: 's1669', 145: 's167', 146: 's1673', 147: 's1674', 148: 's1675', 149: 's1681', 150: 's1689', 151: 's169', 152: 's1690', 153: 's1691', 154: 's1692', 155: 's1696', 156: 's1697', 157: 's1699', 158: 's1700', 159: 's1702', 160: 's1707', 161: 's1715', 162: 's1717', 163: 's1731', 164: 's1744', 165: 's175', 166: 's1753', 167: 's1757', 168: 's177', 169: 's1771', 170: 's1776', 171: 's178', 172: 's1783', 173: 's179', 174: 's1793', 175: 's1795', 176: 's18', 177: 's180', 178: 's1801', 179: 's1808', 180: 's181', 181: 's1810', 182: 's1811', 183: 's1814', 184: 's1818', 185: 's1819', 186: 's1826', 187: 's1834', 188: 's1840', 189: 's1841', 190: 's1842', 191: 's1844', 192: 's1851', 193: 's1852', 194: 's1854', 195: 's1855', 196: 's1859', 197: 's187', 198: 's1874', 199: 's1879', 200: 's188', 201: 's1896', 202: 's190', 203: 's1906', 204: 's1911', 205: 's1917', 206: 's1921', 207: 's1924', 208: 's1926', 209: 's1927', 210: 's1929', 211: 's193', 212: 's1930', 213: 's1936', 214: 's1939', 215: 's1940', 216: 's1941', 217: 's1947', 218: 's1948', 219: 's1949', 220: 's1950', 221: 's1952', 222: 's1958', 223: 's1966', 224: 's1971', 225: 's1972', 226: 's1979', 227: 's1980', 228: 's1981', 229: 's1982', 230: 's1985', 231: 's1989', 232: 's1991', 233: 's1994', 234: 's2', 235: 's20', 236: 's2002', 237: 's2003', 238: 's2005', 239: 's2007', 240: 's2008', 241: 's2020', 242: 's2038', 243: 's2043', 244: 's2048', 245: 's2055', 246: 's2058', 247: 's206', 248: 's2062', 249: 's2067', 250: 's2068', 251: 's2069', 252: 's2072', 253: 's2074', 254: 's2087', 255: 's2103', 256: 's2107', 257: 's2114', 258: 's2115', 259: 's2116', 260: 's2122', 261: 's2123', 262: 's2125', 263: 's2128', 264: 's2129', 265: 's2135', 266: 's214', 267: 's2142', 268: 's2143', 269: 's2145', 270: 's2149', 271: 's2153', 272: 's2166', 273: 's2171', 274: 's2175', 275: 's2176', 276: 's2179', 277: 's2180', 278: 's2181', 279: 's2186', 280: 's2191', 281: 's2196', 282: 's22', 283: 's220', 284: 's2203', 285: 's2208', 286: 's2213', 287: 's2223', 288: 's2237', 289: 's224', 290: 's2246', 291: 's2247', 292: 's2248', 293: 's225', 294: 's2254', 295: 's2255', 296: 's2259', 297: 's2269', 298: 's2273', 299: 's2275', 300: 's2285', 301: 's2289', 302: 's229', 303: 's2294', 304: 's2307', 305: 's2310', 306: 's2314', 307: 's2320', 308: 's2323', 309: 's2325', 310: 's2333', 311: 's234', 312: 's2343', 313: 's235', 314: 's2350', 315: 's2355', 316: 's2358', 317: 's2359', 318: 's2361', 319: 's2362', 320: 's2363', 321: 's2368', 322: 's237', 323: 's2372', 324: 's2376', 325: 's2378', 326: 's2379', 327: 's2381', 328: 's2383', 329: 's2389', 330: 's2391', 331: 's2394', 332: 's24', 333: 's2402', 334: 's241', 335: 's2412', 336: 's2418', 337: 's242', 338: 's2420', 339: 's243', 340: 's2432', 341: 's2433', 342: 's244', 343: 's2441', 344: 's2448', 345: 's2449', 346: 's2450', 347: 's2453', 348: 's2455', 349: 's246', 350: 's2464', 351: 's2465', 352: 's2469', 353: 's2471', 354: 's2472', 355: 's2480', 356: 's2484', 357: 's2487', 358: 's2489', 359: 's249', 360: 's2498', 361: 's2500', 362: 's2501', 363: 's2509', 364: 's251', 365: 's2513', 366: 's2515', 367: 's2516', 368: 's2519', 369: 's2523', 370: 's2525', 371: 's2526', 372: 's2533', 373: 's2546', 374: 's2549', 375: 's2552', 376: 's2562', 377: 's2564', 378: 's2568', 379: 's2569', 380: 's2570', 381: 's2575', 382: 's2577', 383: 's2593', 384: 's2594', 385: 's26', 386: 's2602', 387: 's2604', 388: 's2613', 389: 's2622', 390: 's263', 391: 's2636', 392: 's2637', 393: 's264', 394: 's2645', 395: 's2646', 396: 's2658', 397: 's267', 398: 's2671', 399: 's268', 400: 's2685', 401: 's2688', 402: 's2692', 403: 's2695', 404: 's2699', 405: 's2704', 406: 's2706', 407: 's2711', 408: 's2721', 409: 's2731', 410: 's2737', 411: 's2752', 412: 's276', 413: 's2762', 414: 's2768', 415: 's2775', 416: 's2784', 417: 's2792', 418: 's2794', 419: 's2795', 420: 's2796', 421: 's2798', 422: 's280', 423: 's2800', 424: 's2811', 425: 's2812', 426: 's2827', 427: 's2830', 428: 's2836', 429: 's2841', 430: 's2845', 431: 's2850', 432: 's2853', 433: 's2855', 434: 's2863', 435: 's2864', 436: 's2867', 437: 's2877', 438: 's2879', 439: 's288', 440: 's2886', 441: 's2888', 442: 's289', 443: 's2894', 444: 's2909', 445: 's2916', 446: 's2917', 447: 's2918', 448: 's2922', 449: 's2923', 450: 's2924', 451: 's2928', 452: 's2932', 453: 's2933', 454: 's294', 455: 's2942', 456: 's2952', 457: 's2954', 458: 's2958', 459: 's2960', 460: 's297', 461: 's2972', 462: 's2978', 463: 's2979', 464: 's2985', 465: 's2991', 466: 's2992', 467: 's2995', 468: 's2998', 469: 's30', 470: 's3002', 471: 's301', 472: 's3011', 473: 's3020', 474: 's3021', 475: 's3025', 476: 's3031', 477: 's3033', 478: 's3041', 479: 's3048', 480: 's3051', 481: 's3054', 482: 's3061', 483: 's3066', 484: 's3067', 485: 's3070', 486: 's3075', 487: 's3077', 488: 's3088', 489: 's31', 490: 's3104', 491: 's3110', 492: 's3111', 493: 's3120', 494: 's3121', 495: 's3130', 496: 's3131', 497: 's3134', 498: 's3138', 499: 's3139', 500: 's3145', 501: 's3149', 502: 's315', 503: 's3154', 504: 's3158', 505: 's3159', 506: 's3162', 507: 's3163', 508: 's3181', 509: 's3183', 510: 's3186', 511: 's3188', 512: 's3193', 513: 's32', 514: 's3203', 515: 's3210', 516: 's3213', 517: 's322', 518: 's3226', 519: 's3237', 520: 's3239', 521: 's324', 522: 's3243', 523: 's3246', 524: 's3247', 525: 's3248', 526: 's325', 527: 's3250', 528: 's3256', 529: 's3264', 530: 's3267', 531: 's327', 532: 's3272', 533: 's3274', 534: 's3278', 535: 's3281', 536: 's3282', 537: 's3292', 538: 's3294', 539: 's3295', 540: 's3302', 541: 's3329', 542: 's333', 543: 's3337', 544: 's3338', 545: 's3343', 546: 's3350', 547: 's3352', 548: 's3353', 549: 's3359', 550: 's3362', 551: 's3364', 552: 's3367', 553: 's3368', 554: 's3371', 555: 's3380', 556: 's3391', 557: 's3395', 558: 's3416', 559: 's3417', 560: 's3418', 561: 's3421', 562: 's3423', 563: 's3424', 564: 's3425', 565: 's3434', 566: 's3435', 567: 's3443', 568: 's3446', 569: 's3449', 570: 's3450', 571: 's3453', 572: 's3454', 573: 's3455', 574: 's3458', 575: 's3460', 576: 's3462', 577: 's3466', 578: 's3474', 579: 's3477', 580: 's3486', 581: 's3487', 582: 's3492', 583: 's3493', 584: 's3495', 585: 's3498', 586: 's3504', 587: 's3518', 588: 's3522', 589: 's3525', 590: 's3527', 591: 's3551', 592: 's3552', 593: 's3556', 594: 's3561', 595: 's3562', 596: 's3570', 597: 's3579', 598: 's3581', 599: 's3582', 600: 's3583', 601: 's3588', 602: 's359', 603: 's3590', 604: 's36', 605: 's3600', 606: 's3604', 607: 's3605', 608: 's3608', 609: 's3609', 610: 's3613', 611: 's3615', 612: 's3638', 613: 's364', 614: 's3641', 615: 's3643', 616: 's3654', 617: 's3655', 618: 's3664', 619: 's3665', 620: 's3668', 621: 's3673', 622: 's3674', 623: 's3675', 624: 's368', 625: 's3680', 626: 's3686', 627: 's3688', 628: 's3689', 629: 's369', 630: 's3697', 631: 's37', 632: 's370', 633: 's3707', 634: 's3708', 635: 's371', 636: 's3721', 637: 's3723', 638: 's3726', 639: 's3737', 640: 's3738', 641: 's3740', 642: 's3742', 643: 's3749', 644: 's3756', 645: 's376', 646: 's3760', 647: 's3764', 648: 's3765', 649: 's3768', 650: 's3781', 651: 's3788', 652: 's3790', 653: 's3794', 654: 's3801', 655: 's3807', 656: 's3809', 657: 's3814', 658: 's3820', 659: 's3823', 660: 's3824', 661: 's3838', 662: 's3841', 663: 's3847', 664: 's3850', 665: 's3852', 666: 's3866', 667: 's3867', 668: 's3879', 669: 's388', 670: 's3880', 671: 's3881', 672: 's3882', 673: 's3884', 674: 's3885', 675: 's3887', 676: 's3888', 677: 's3892', 678: 's3893', 679: 's3895', 680: 's3897', 681: 's3899', 682: 's3904', 683: 's3908', 684: 's3910', 685: 's3914', 686: 's392', 687: 's3921', 688: 's3929', 689: 's393', 690: 's3931', 691: 's3933', 692: 's3936', 693: 's3937', 694: 's3939', 695: 's3941', 696: 's3950', 697: 's3954', 698: 's3955', 699: 's3957', 700: 's3966', 701: 's397', 702: 's3970', 703: 's3974', 704: 's3975', 705: 's3977', 706: 's3979', 707: 's398', 708: 's3980', 709: 's3981', 710: 's3990', 711: 's3993', 712: 's3995', 713: 's3996', 714: 's3999', 715: 's4', 716: 's400', 717: 's401', 718: 's4014', 719: 's4015', 720: 's4016', 721: 's4023', 722: 's4026', 723: 's4028', 724: 's4030', 725: 's4031', 726: 's4032', 727: 's4033', 728: 's4042', 729: 's4045', 730: 's4047', 731: 's4065', 732: 's4069', 733: 's4071', 734: 's4072', 735: 's4085', 736: 's4089', 737: 's4090', 738: 's4097', 739: 's41', 740: 's4107', 741: 's4111', 742: 's4116', 743: 's4117', 744: 's4119', 745: 's4120', 746: 's4121', 747: 's4125', 748: 's4127', 749: 's4130', 750: 's4131', 751: 's4137', 752: 's4138', 753: 's4140', 754: 's4141', 755: 's4143', 756: 's4145', 757: 's4153', 758: 's4161', 759: 's4164', 760: 's4167', 761: 's4172', 762: 's4184', 763: 's4192', 764: 's42', 765: 's4203', 766: 's4204', 767: 's4208', 768: 's4209', 769: 's4219', 770: 's422', 771: 's4225', 772: 's4229', 773: 's4232', 774: 's4235', 775: 's4237', 776: 's4248', 777: 's4249', 778: 's4253', 779: 's4257', 780: 's4259', 781: 's426', 782: 's4265', 783: 's4266', 784: 's4272', 785: 's4273', 786: 's4275', 787: 's4277', 788: 's4278', 789: 's4290', 790: 's4296', 791: 's4297', 792: 's43', 793: 's4310', 794: 's4312', 795: 's4315', 796: 's4316', 797: 's4321', 798: 's4323', 799: 's4330', 800: 's4331', 801: 's4346', 802: 's4351', 803: 's4357', 804: 's4361', 805: 's4364', 806: 's4367', 807: 's4369', 808: 's437', 809: 's4377', 810: 's4384', 811: 's4386', 812: 's4390', 813: 's4396', 814: 's4401', 815: 's4410', 816: 's4411', 817: 's4412', 818: 's4415', 819: 's4419', 820: 's442', 821: 's4423', 822: 's4425', 823: 's4428', 824: 's443', 825: 's4435', 826: 's4437', 827: 's444', 828: 's4440', 829: 's4447', 830: 's4448', 831: 's4461', 832: 's4471', 833: 's4477', 834: 's4482', 835: 's4484', 836: 's4485', 837: 's4488', 838: 's4489', 839: 's449', 840: 's4490', 841: 's4493', 842: 's4495', 843: 's450', 844: 's4504', 845: 's4512', 846: 's4516', 847: 's452', 848: 's4524', 849: 's4525', 850: 's4530', 851: 's4531', 852: 's4536', 853: 's4537', 854: 's4550', 855: 's4551', 856: 's4552', 857: 's4553', 858: 's4561', 859: 's4564', 860: 's4566', 861: 's4567', 862: 's4571', 863: 's4572', 864: 's458', 865: 's4589', 866: 's459', 867: 's4594', 868: 's4599', 869: 's46', 870: 's460', 871: 's4605', 872: 's4606', 873: 's4611', 874: 's4615', 875: 's4619', 876: 's4622', 877: 's4625', 878: 's4634', 879: 's4636', 880: 's4638', 881: 's4644', 882: 's4646', 883: 's4648', 884: 's4652', 885: 's466', 886: 's4663', 887: 's4672', 888: 's4673', 889: 's4675', 890: 's4676', 891: 's4679', 892: 's4684', 893: 's4686', 894: 's4688', 895: 's4691', 896: 's4692', 897: 's4701', 898: 's4704', 899: 's4707', 900: 's4708', 901: 's4711', 902: 's4712', 903: 's4724', 904: 's4727', 905: 's473', 906: 's4730', 907: 's4738', 908: 's4742', 909: 's4748', 910: 's4750', 911: 's4760', 912: 's4766', 913: 's4768', 914: 's4771', 915: 's4772', 916: 's4776', 917: 's478', 918: 's4781', 919: 's4793', 920: 's4797', 921: 's4798', 922: 's4806', 923: 's481', 924: 's4811', 925: 's4816', 926: 's4819', 927: 's4825', 928: 's4829', 929: 's4834', 930: 's4837', 931: 's4843', 932: 's4846', 933: 's4847', 934: 's4853', 935: 's4858', 936: 's4860', 937: 's4866', 938: 's4868', 939: 's487', 940: 's4870', 941: 's4872', 942: 's4882', 943: 's4901', 944: 's4905', 945: 's4906', 946: 's4907', 947: 's4909', 948: 's4910', 949: 's4914', 950: 's492', 951: 's4920', 952: 's4922', 953: 's493', 954: 's4937', 955: 's4938', 956: 's494', 957: 's4942', 958: 's4948', 959: 's4950', 960: 's4952', 961: 's4953', 962: 's4958', 963: 's496', 964: 's4960', 965: 's4961', 966: 's4969', 967: 's4979', 968: 's4981', 969: 's4983', 970: 's4985', 971: 's4986', 972: 's4989', 973: 's4991', 974: 's4999', 975: 's5', 976: 's5003', 977: 's5005', 978: 's5012', 979: 's5013', 980: 's5014', 981: 's5015', 982: 's5028', 983: 's5035', 984: 's5036', 985: 's5037', 986: 's5038', 987: 's5046', 988: 's5059', 989: 's5061', 990: 's5070', 991: 's5074', 992: 's5075', 993: 's5078', 994: 's5081', 995: 's5096', 996: 's5098', 997: 's5100', 998: 's5104', 999: 's5108', 1000: 's5111', 1001: 's5113', 1002: 's5116', 1003: 's5122', 1004: 's5125', 1005: 's5129', 1006: 's5134', 1007: 's5136', 1008: 's5137', 1009: 's515', 1010: 's5160', 1011: 's5170', 1012: 's5181', 1013: 's5184', 1014: 's5192', 1015: 's5196', 1016: 's5206', 1017: 's5211', 1018: 's5216', 1019: 's5219', 1020: 's5232', 1021: 's5237', 1022: 's5238', 1023: 's524', 1024: 's5240', 1025: 's5245', 1026: 's5246', 1027: 's5248', 1028: 's5256', 1029: 's5263', 1030: 's5267', 1031: 's5275', 1032: 's5279', 1033: 's5281', 1034: 's5288', 1035: 's5290', 1036: 's5293', 1037: 's5297', 1038: 's5301', 1039: 's5303', 1040: 's5305', 1041: 's5310', 1042: 's532', 1043: 's5327', 1044: 's533', 1045: 's5331', 1046: 's5335', 1047: 's5341', 1048: 's5348', 1049: 's5351', 1050: 's5354', 1051: 's5355', 1052: 's5357', 1053: 's5362', 1054: 's5364', 1055: 's5366', 1056: 's5370', 1057: 's5383', 1058: 's5384', 1059: 's5389', 1060: 's539', 1061: 's5396', 1062: 's5398', 1063: 's5399', 1064: 's540', 1065: 's5402', 1066: 's5410', 1067: 's5411', 1068: 's5413', 1069: 's542', 1070: 's5429', 1071: 's5430', 1072: 's5436', 1073: 's5438', 1074: 's544', 1075: 's5440', 1076: 's5445', 1077: 's5448', 1078: 's545', 1079: 's5451', 1080: 's5456', 1081: 's5471', 1082: 's5480', 1083: 's5481', 1084: 's5482', 1085: 's5484', 1086: 's5489', 1087: 's5492', 1088: 's5497', 1089: 's5509', 1090: 's5511', 1091: 's552', 1092: 's5525', 1093: 's5529', 1094: 's554', 1095: 's5540', 1096: 's5549', 1097: 's557', 1098: 's5571', 1099: 's5581', 1100: 's559', 1101: 's5592', 1102: 's5597', 1103: 's5599', 1104: 's5601', 1105: 's5604', 1106: 's561', 1107: 's5619', 1108: 's563', 1109: 's5631', 1110: 's5639', 1111: 's564', 1112: 's5640', 1113: 's5641', 1114: 's5649', 1115: 's5651', 1116: 's566', 1117: 's5666', 1118: 's5672', 1119: 's5675', 1120: 's5676', 1121: 's5678', 1122: 's568', 1123: 's5682', 1124: 's5685', 1125: 's5691', 1126: 's5693', 1127: 's5695', 1128: 's5699', 1129: 's57', 1130: 's5701', 1131: 's5732', 1132: 's5733', 1133: 's5744', 1134: 's5745', 1135: 's5750', 1136: 's5752', 1137: 's5754', 1138: 's5763', 1139: 's5764', 1140: 's5769', 1141: 's5777', 1142: 's5779', 1143: 's5783', 1144: 's58', 1145: 's5803', 1146: 's5808', 1147: 's582', 1148: 's5821', 1149: 's5829', 1150: 's5843', 1151: 's5845', 1152: 's5846', 1153: 's5854', 1154: 's5855', 1155: 's5857', 1156: 's5858', 1157: 's5881', 1158: 's5883', 1159: 's5889', 1160: 's5899', 1161: 's59', 1162: 's5905', 1163: 's5909', 1164: 's591', 1165: 's5916', 1166: 's5920', 1167: 's5928', 1168: 's5935', 1169: 's5941', 1170: 's5942', 1171: 's5946', 1172: 's5948', 1173: 's595', 1174: 's5954', 1175: 's5955', 1176: 's5964', 1177: 's5967', 1178: 's597', 1179: 's5974', 1180: 's5977', 1181: 's598', 1182: 's5981', 1183: 's5985', 1184: 's5992', 1185: 's5995', 1186: 's5999', 1187: 's6', 1188: 's6016', 1189: 's6026', 1190: 's6033', 1191: 's6041', 1192: 's6050', 1193: 's6054', 1194: 's6068', 1195: 's6077', 1196: 's6079', 1197: 's6081', 1198: 's6088', 1199: 's6092', 1200: 's61', 1201: 's6101', 1202: 's6103', 1203: 's6105', 1204: 's6110', 1205: 's6111', 1206: 's6112', 1207: 's6116', 1208: 's6118', 1209: 's6128', 1210: 's6138', 1211: 's6150', 1212: 's6157', 1213: 's6158', 1214: 's6162', 1215: 's6167', 1216: 's6178', 1217: 's6181', 1218: 's6185', 1219: 's6188', 1220: 's619', 1221: 's6195', 1222: 's6199', 1223: 's62', 1224: 's6209', 1225: 's6218', 1226: 's6219', 1227: 's6221', 1228: 's6239', 1229: 's6240', 1230: 's6245', 1231: 's6247', 1232: 's6251', 1233: 's6254', 1234: 's6264', 1235: 's6278', 1236: 's628', 1237: 's6281', 1238: 's6284', 1239: 's6290', 1240: 's6293', 1241: 's6298', 1242: 's6300', 1243: 's6301', 1244: 's6302', 1245: 's6306', 1246: 's6313', 1247: 's6316', 1248: 's6319', 1249: 's632', 1250: 's6324', 1251: 's6343', 1252: 's6345', 1253: 's635', 1254: 's6352', 1255: 's6354', 1256: 's6356', 1257: 's6358', 1258: 's6359', 1259: 's637', 1260: 's6373', 1261: 's6375', 1262: 's6386', 1263: 's6388', 1264: 's6390', 1265: 's6399', 1266: 's64', 1267: 's640', 1268: 's6405', 1269: 's6409', 1270: 's6420', 1271: 's6424', 1272: 's6425', 1273: 's6427', 1274: 's643', 1275: 's6445', 1276: 's6446', 1277: 's6448', 1278: 's6449', 1279: 's6450', 1280: 's6452', 1281: 's6465', 1282: 's6474', 1283: 's6476', 1284: 's6481', 1285: 's6488', 1286: 's6502', 1287: 's6506', 1288: 's6508', 1289: 's6510', 1290: 's6515', 1291: 's6521', 1292: 's6543', 1293: 's655', 1294: 's6557', 1295: 's6564', 1296: 's6568', 1297: 's6569', 1298: 's657', 1299: 's6573', 1300: 's6587', 1301: 's6592', 1302: 's6599', 1303: 's660', 1304: 's6601', 1305: 's6604', 1306: 's6607', 1307: 's6608', 1308: 's6614', 1309: 's662', 1310: 's6635', 1311: 's6636', 1312: 's6647', 1313: 's6648', 1314: 's6652', 1315: 's6658', 1316: 's666', 1317: 's6660', 1318: 's6664', 1319: 's667', 1320: 's6672', 1321: 's6673', 1322: 's6674', 1323: 's6676', 1324: 's669', 1325: 's670', 1326: 's6702', 1327: 's671', 1328: 's6711', 1329: 's6713', 1330: 's6718', 1331: 's6729', 1332: 's6733', 1333: 's6735', 1334: 's674', 1335: 's6741', 1336: 's6743', 1337: 's6744', 1338: 's6751', 1339: 's6754', 1340: 's6755', 1341: 's6764', 1342: 's6777', 1343: 's6786', 1344: 's6788', 1345: 's679', 1346: 's6803', 1347: 's6805', 1348: 's6819', 1349: 's6831', 1350: 's6835', 1351: 's6839', 1352: 's6843', 1353: 's6844', 1354: 's6847', 1355: 's6851', 1356: 's6858', 1357: 's6861', 1358: 's6865', 1359: 's687', 1360: 's6874', 1361: 's6881', 1362: 's6890', 1363: 's6901', 1364: 's6904', 1365: 's6908', 1366: 's6918', 1367: 's693', 1368: 's6931', 1369: 's6933', 1370: 's6938', 1371: 's694', 1372: 's6940', 1373: 's6942', 1374: 's6944', 1375: 's6947', 1376: 's6950', 1377: 's6952', 1378: 's6958', 1379: 's6964', 1380: 's6966', 1381: 's6971', 1382: 's6975', 1383: 's698', 1384: 's6987', 1385: 's6996', 1386: 's700', 1387: 's7007', 1388: 's701', 1389: 's7017', 1390: 's7023', 1391: 's7026', 1392: 's7029', 1393: 's7039', 1394: 's7040', 1395: 's7050', 1396: 's7054', 1397: 's7055', 1398: 's707', 1399: 's7070', 1400: 's7071', 1401: 's7072', 1402: 's7079', 1403: 's7081', 1404: 's7082', 1405: 's7088', 1406: 's7090', 1407: 's7095', 1408: 's710', 1409: 's7105', 1410: 's7119', 1411: 's7121', 1412: 's7126', 1413: 's7128', 1414: 's7131', 1415: 's7143', 1416: 's7148', 1417: 's7152', 1418: 's7153', 1419: 's7165', 1420: 's7170', 1421: 's7176', 1422: 's7177', 1423: 's7181', 1424: 's7182', 1425: 's7188', 1426: 's7204', 1427: 's721', 1428: 's7210', 1429: 's7223', 1430: 's7224', 1431: 's7228', 1432: 's7244', 1433: 's7246', 1434: 's7259', 1435: 's7265', 1436: 's7267', 1437: 's7269', 1438: 's7280', 1439: 's7285', 1440: 's7289', 1441: 's7291', 1442: 's7296', 1443: 's7299', 1444: 's73', 1445: 's7303', 1446: 's7307', 1447: 's7311', 1448: 's7331', 1449: 's7342', 1450: 's7350', 1451: 's7353', 1452: 's7355', 1453: 's7360', 1454: 's7361', 1455: 's7378', 1456: 's7379', 1457: 's7382', 1458: 's7383', 1459: 's739', 1460: 's7390', 1461: 's7393', 1462: 's7403', 1463: 's7416', 1464: 's7417', 1465: 's7418', 1466: 's7419', 1467: 's7421', 1468: 's7431', 1469: 's7434', 1470: 's7436', 1471: 's7439', 1472: 's7447', 1473: 's745', 1474: 's7466', 1475: 's7469', 1476: 's7484', 1477: 's7493', 1478: 's7497', 1479: 's7498', 1480: 's750', 1481: 's7500', 1482: 's7505', 1483: 's7506', 1484: 's7511', 1485: 's7522', 1486: 's7526', 1487: 's7527', 1488: 's7531', 1489: 's7534', 1490: 's7536', 1491: 's7541', 1492: 's7544', 1493: 's7548', 1494: 's7554', 1495: 's7555', 1496: 's7560', 1497: 's7570', 1498: 's7572', 1499: 's7575', 1500: 's758', 1501: 's7588', 1502: 's7589', 1503: 's7595', 1504: 's7599', 1505: 's7600', 1506: 's7613', 1507: 's7623', 1508: 's7624', 1509: 's7626', 1510: 's7629', 1511: 's763', 1512: 's7635', 1513: 's7637', 1514: 's764', 1515: 's7641', 1516: 's7642', 1517: 's7647', 1518: 's7651', 1519: 's7656', 1520: 's7673', 1521: 's7682', 1522: 's7685', 1523: 's7690', 1524: 's7695', 1525: 's7700', 1526: 's771', 1527: 's7711', 1528: 's7713', 1529: 's7719', 1530: 's772', 1531: 's7721', 1532: 's7726', 1533: 's7730', 1534: 's7731', 1535: 's7733', 1536: 's7738', 1537: 's7739', 1538: 's7743', 1539: 's7748', 1540: 's775', 1541: 's7750', 1542: 's7752', 1543: 's7759', 1544: 's7762', 1545: 's777', 1546: 's7778', 1547: 's7783', 1548: 's779', 1549: 's7796', 1550: 's7797', 1551: 's7799', 1552: 's7807', 1553: 's7808', 1554: 's7817', 1555: 's7828', 1556: 's7832', 1557: 's7839', 1558: 's7840', 1559: 's7843', 1560: 's7845', 1561: 's7848', 1562: 's7857', 1563: 's7858', 1564: 's7863', 1565: 's7864', 1566: 's7866', 1567: 's7868', 1568: 's7871', 1569: 's7876', 1570: 's7883', 1571: 's7895', 1572: 's790', 1573: 's7903', 1574: 's7929', 1575: 's7935', 1576: 's794', 1577: 's7941', 1578: 's7943', 1579: 's7954', 1580: 's7955', 1581: 's7966', 1582: 's7968', 1583: 's7969', 1584: 's7982', 1585: 's7985', 1586: 's799', 1587: 's7992', 1588: 's8002', 1589: 's801', 1590: 's8014', 1591: 's8019', 1592: 's8022', 1593: 's8023', 1594: 's8025', 1595: 's8031', 1596: 's8032', 1597: 's8038', 1598: 's8055', 1599: 's8057', 1600: 's8059', 1601: 's806', 1602: 's8060', 1603: 's8079', 1604: 's8083', 1605: 's8084', 1606: 's8090', 1607: 's8093', 1608: 's8094', 1609: 's8105', 1610: 's811', 1611: 's8125', 1612: 's8129', 1613: 's8132', 1614: 's8135', 1615: 's8138', 1616: 's8139', 1617: 's8140', 1618: 's8141', 1619: 's8148', 1620: 's8152', 1621: 's8155', 1622: 's8161', 1623: 's8173', 1624: 's8175', 1625: 's8180', 1626: 's8182', 1627: 's8186', 1628: 's8187', 1629: 's8190', 1630: 's8195', 1631: 's8199', 1632: 's820', 1633: 's8203', 1634: 's8204', 1635: 's8205', 1636: 's8207', 1637: 's8209', 1638: 's821', 1639: 's8210', 1640: 's8218', 1641: 's822', 1642: 's8221', 1643: 's8222', 1644: 's8228', 1645: 's8235', 1646: 's8238', 1647: 's8249', 1648: 's8260', 1649: 's8261', 1650: 's8262', 1651: 's8265', 1652: 's827', 1653: 's8276', 1654: 's8277', 1655: 's8278', 1656: 's828', 1657: 's8292', 1658: 's8294', 1659: 's8299', 1660: 's8300', 1661: 's8306', 1662: 's831', 1663: 's8310', 1664: 's832', 1665: 's8329', 1666: 's8331', 1667: 's8333', 1668: 's834', 1669: 's8340', 1670: 's8343', 1671: 's8347', 1672: 's835', 1673: 's8351', 1674: 's8354', 1675: 's8359', 1676: 's836', 1677: 's8362', 1678: 's8369', 1679: 's8380', 1680: 's8381', 1681: 's8382', 1682: 's8383', 1683: 's8385', 1684: 's8393', 1685: 's8395', 1686: 's8399', 1687: 's8402', 1688: 's8404', 1689: 's8412', 1690: 's842', 1691: 's8427', 1692: 's8436', 1693: 's8437', 1694: 's8438', 1695: 's8439', 1696: 's844', 1697: 's8461', 1698: 's8466', 1699: 's8467', 1700: 's8477', 1701: 's848', 1702: 's8484', 1703: 's8486', 1704: 's8487', 1705: 's849', 1706: 's8490', 1707: 's8492', 1708: 's8497', 1709: 's850', 1710: 's851', 1711: 's8513', 1712: 's8514', 1713: 's8515', 1714: 's8521', 1715: 's8523', 1716: 's8527', 1717: 's8528', 1718: 's8532', 1719: 's8534', 1720: 's8545', 1721: 's8548', 1722: 's8551', 1723: 's856', 1724: 's8563', 1725: 's8568', 1726: 's8575', 1727: 's8577', 1728: 's8580', 1729: 's8582', 1730: 's8595', 1731: 's8597', 1732: 's8605', 1733: 's8613', 1734: 's8623', 1735: 's8624', 1736: 's8626', 1737: 's8627', 1738: 's8630', 1739: 's8636', 1740: 's8640', 1741: 's8643', 1742: 's8644', 1743: 's8646', 1744: 's8650', 1745: 's8653', 1746: 's8654', 1747: 's8658', 1748: 's8669', 1749: 's8685', 1750: 's8687', 1751: 's8689', 1752: 's8694', 1753: 's8698', 1754: 's8701', 1755: 's8704', 1756: 's8712', 1757: 's8713', 1758: 's8714', 1759: 's872', 1760: 's8724', 1761: 's8732', 1762: 's8743', 1763: 's8750', 1764: 's8755', 1765: 's8756', 1766: 's876', 1767: 's8762', 1768: 's8763', 1769: 's8766', 1770: 's8771', 1771: 's8782', 1772: 's8784', 1773: 's8787', 1774: 's8796', 1775: 's88', 1776: 's880', 1777: 's8804', 1778: 's8805', 1779: 's8807', 1780: 's881', 1781: 's883', 1782: 's884', 1783: 's887', 1784: 's898', 1785: 's90', 1786: 's906', 1787: 's909', 1788: 's910', 1789: 's914', 1790: 's915', 1791: 's92', 1792: 's920', 1793: 's925', 1794: 's928', 1795: 's934', 1796: 's936', 1797: 's937', 1798: 's953', 1799: 's962', 1800: 's966', 1801: 's968', 1802: 's973', 1803: 's977', 1804: 's98', 1805: 's985', 1806: 's988', 1807: 's990', 1808: 's994'}\n"
          ]
        }
      ],
      "source": [
        "# This prints the big table (actually a matrix!) where:\n",
        "# - each row is a movie\n",
        "# - each column is a user\n",
        "# - the number inside is the rating that user gave to the movie\n",
        "# It's a sparse matrix, so it only shows where ratings exist\n",
        "print(f\"{X}\\n\")  # (movieId, userId)   rating\n",
        "\n",
        "# This shows a dictionary that turns a real user ID into a number (like giving each user a seat number)\n",
        "# For example, user \"abc123\" might be user number 0 in the matrix\n",
        "print(f\"{user_mapper}\\n\")\n",
        "\n",
        "# This does the opposite: it turns a user number (like 0, 1, 2...) back into their real user ID\n",
        "# It's helpful when we want to know *who* user 0 really is\n",
        "print(f\"{user_inv_mapper}\\n\")\n",
        "\n",
        "# Same idea for movies! This turns a movie's real ID into a number so we can put it into our matrix\n",
        "print(f\"{item_mapper}\\n\")\n",
        "\n",
        "# And this turns the number back into the movie's real ID (so we can show which movie we're talking about)\n",
        "print(item_inv_mapper)\n"
      ]
    },
    {
      "cell_type": "markdown",
      "metadata": {
        "id": "pNB96dmT1-e2"
      },
      "source": [
        "**Let's see what rating did user 2 give to movie 67?**"
      ]
    },
    {
      "cell_type": "code",
      "execution_count": 380,
      "metadata": {
        "colab": {
          "base_uri": "https://localhost:8080/"
        },
        "id": "KjiWb39m195w",
        "outputId": "a416955e-4dad-439d-b60a-aae572d29e45"
      },
      "outputs": [
        {
          "name": "stdout",
          "output_type": "stream",
          "text": [
            "5\n"
          ]
        }
      ],
      "source": [
        "value = X[2, 67]\n",
        "print(value)"
      ]
    },
    {
      "cell_type": "markdown",
      "metadata": {
        "id": "hh7s5f6V5abR"
      },
      "source": [
        "**find the CORRESPONDING userId and movieId in your ORIGINAL DataFrame, you can use the inverse mapping you created earlier:**"
      ]
    },
    {
      "cell_type": "code",
      "execution_count": 381,
      "metadata": {
        "colab": {
          "base_uri": "https://localhost:8080/"
        },
        "id": "cXfqnksB28aZ",
        "outputId": "049b076e-25fa-4098-bfa7-a60c9863510b"
      },
      "outputs": [
        {
          "name": "stdout",
          "output_type": "stream",
          "text": [
            "The rating given by user 3 to movie s1318 is 5.\n"
          ]
        }
      ],
      "source": [
        "print(f\"The rating given by user {user_inv_mapper[2]} to movie {item_inv_mapper[67]} is {value}.\")\n"
      ]
    },
    {
      "cell_type": "code",
      "execution_count": 382,
      "metadata": {
        "colab": {
          "base_uri": "https://localhost:8080/"
        },
        "id": "fAUfHQVS5upw",
        "outputId": "cc002b9a-7cab-428f-9f17-f9722371ada0"
      },
      "outputs": [
        {
          "name": "stdout",
          "output_type": "stream",
          "text": [
            "Origianl show_id: s1006, Origianl UserId: 68, Rating: 5\n"
          ]
        }
      ],
      "source": [
        "# Get the userId and movieId for the coordinates (0, 30)\n",
        "Original_show_id = item_inv_mapper[2]  # Get the original movieId from the index 0\n",
        "Original_user_id = user_inv_mapper[67]  # Get the original userId from the index 30\n",
        "\n",
        "# Now, you can print the movieId, userId, and rating\n",
        "print(f'Origianl show_id: {Original_show_id}, Origianl UserId: {Original_user_id}, Rating: {X[2, 67]}')"
      ]
    },
    {
      "cell_type": "markdown",
      "metadata": {
        "id": "3fN4Ko-b7-La"
      },
      "source": []
    },
    {
      "cell_type": "code",
      "execution_count": 383,
      "metadata": {
        "colab": {
          "base_uri": "https://localhost:8080/"
        },
        "id": "re_eHt7v7-2M",
        "outputId": "69eec427-0724-4f1c-f30a-3b1a599bc2ec"
      },
      "outputs": [
        {
          "name": "stdout",
          "output_type": "stream",
          "text": [
            "The sparsity level of this matrix is 99.4%\n",
            "\n",
            "This means that each user has rated 0.6% of the movies in this database.\n",
            "\n",
            "Each user has rated approximately 11.0 movies in the database\n"
          ]
        }
      ],
      "source": [
        "sparsity = round(1.0 - len(df_ratings) / float(len(user_mapper) * len(item_mapper)), 3)\n",
        "print('The sparsity level of this matrix is {}%'.format(sparsity * 100))\n",
        "\n",
        "# Calculate the percentage of movies rated by each user\n",
        "rating_percentage = round(100 - sparsity * 100, 2)\n",
        "print(f'\\nThis means that each user has rated {rating_percentage}% of the movies in this database.')\n",
        "\n",
        "# Calculate the number of movies rated by each user\n",
        "num_movies_rated_by_user = round(rating_percentage / 100 * df_ratings.show_id.nunique(), 0)\n",
        "print(f\"\\nEach user has rated approximately {num_movies_rated_by_user} movies in the database\")"
      ]
    },
    {
      "cell_type": "markdown",
      "metadata": {
        "id": "gdleP4zg8oYS"
      },
      "source": [
        "Our Sparsity of 99.4% means the matrix is **extremely sparse**, with only about 0.6% of the values are filled, and **99.41% of the values are missing**."
      ]
    },
    {
      "cell_type": "markdown",
      "metadata": {
        "id": "xOdfBsEX88X1"
      },
      "source": [
        "# **Model Fitting: Calculate Similarity**"
      ]
    },
    {
      "cell_type": "markdown",
      "metadata": {
        "id": "2uaQpKVd9Cgv"
      },
      "source": [
        "Because we have discrete data with few values (e.g. 1, 2, 3), then a manhattan or cityblock distance may be better"
      ]
    },
    {
      "cell_type": "markdown",
      "metadata": {
        "id": "vx5QpDGh9t__"
      },
      "source": [
        "- This function finds movies that are similar to one specific movie.\n",
        "- It looks at how people rated the movie and compares it to how they rated other movies.\n",
        "- Then it gives you a list of the most similar movies and how close they are."
      ]
    },
    {
      "cell_type": "code",
      "execution_count": 384,
      "metadata": {
        "id": "R6JVrCIB95hB"
      },
      "outputs": [],
      "source": [
        "def recommend(itemId, X, item_mapper, item_inv_mapper, k, metric='manhattan', messages=True):\n",
        "  from sklearn.neighbors import NearestNeighbors\n",
        "\n",
        "  rec_ids = []                # Make a list for the recommended item IDs we'll get later\n",
        "  item = item_mapper[itemId]  # Get the index of the movie ID passed into the function\n",
        "  item_vector = X[item]       # Get the vector of user ratings for the movie ID passed into the function\n",
        "\n",
        "  # Fit the clustering algorithm based on the user-item matrix X\n",
        "  knn = NearestNeighbors(n_neighbors=k+1, algorithm=\"brute\", metric=metric).fit(X)\n",
        "\n",
        "  # Call the trained knn cluster model to return the nearest neighbors of the item_vector passed in\n",
        "  rec = knn.kneighbors(item_vector.reshape(1,-1), return_distance=True)\n",
        "  rec_indeces = rec[1][0]     # Parse out the list of indeces of the recommended items\n",
        "  rec_distances = rec[0][0]   # Parse out the recommendation strength calculated as the distance from the cluster center\n",
        "  rec_distances = np.delete(rec_distances, 0) # Drop the first number in the list because it is the distance of itemId from itself\n",
        "\n",
        "  # We need to replace the recommended item indeces with their original item IDs\n",
        "  for i in range(1, knn.n_neighbors): # n_neighbors is the number of neighbors to return\n",
        "    rec_ids.append(item_inv_mapper[rec_indeces[i]])\n",
        "\n",
        "  # It may help to see what this is. The distance list is first and the recommended item indeces are second\n",
        "  if messages:\n",
        "    print(f'List of recommended item indeces:\\n{rec_indeces}\\n')\n",
        "    print(f'List of recommended item IDs:\\n{rec_ids}\\n')\n",
        "    print(f'List of recommended item similarity to selected item:\\n{rec_distances}\\n')\n",
        "\n",
        "  # Return two lists: the original item IDs of the recommendations and their similarity scores\n",
        "  return rec_ids, rec_distances"
      ]
    },
    {
      "cell_type": "code",
      "execution_count": 385,
      "metadata": {
        "id": "j4hUfVmgAj51"
      },
      "outputs": [],
      "source": [
        "df_titles.set_index('show_id', inplace=True)\n"
      ]
    },
    {
      "cell_type": "markdown",
      "metadata": {
        "id": "iIcCwnR2Bg7M"
      },
      "source": [
        "**Movie Recommendation Based on a Selected Title**"
      ]
    },
    {
      "cell_type": "code",
      "execution_count": 386,
      "metadata": {
        "colab": {
          "base_uri": "https://localhost:8080/",
          "height": 677
        },
        "id": "5nww1ajw-ON9",
        "outputId": "5163e2e7-cc02-4dca-83e6-00e2ebc48649"
      },
      "outputs": [
        {
          "name": "stdout",
          "output_type": "stream",
          "text": [
            "List of recommended item indeces:\n",
            "[ 528  715 1158  289  142  947 1257    0 1388 1746 1039]\n",
            "\n",
            "List of recommended item IDs:\n",
            "['s4', 's5883', 's224', 's1659', 's4909', 's6358', 's1004', 's701', 's8654', 's5303']\n",
            "\n",
            "List of recommended item similarity to selected item:\n",
            "[0. 0. 1. 1. 1. 2. 2. 4. 5. 6.]\n",
            "\n",
            "\n",
            "\n",
            "A user who liked the show: Jailbirds New Orleans,\n",
            " you may also enjoy the 10 following shows:\n",
            "\n"
          ]
        },
        {
          "data": {
            "text/html": [
              "<div>\n",
              "<style scoped>\n",
              "    .dataframe tbody tr th:only-of-type {\n",
              "        vertical-align: middle;\n",
              "    }\n",
              "\n",
              "    .dataframe tbody tr th {\n",
              "        vertical-align: top;\n",
              "    }\n",
              "\n",
              "    .dataframe thead th {\n",
              "        text-align: right;\n",
              "    }\n",
              "</style>\n",
              "<table border=\"1\" class=\"dataframe\">\n",
              "  <thead>\n",
              "    <tr style=\"text-align: right;\">\n",
              "      <th></th>\n",
              "      <th>title</th>\n",
              "    </tr>\n",
              "    <tr>\n",
              "      <th>show_id</th>\n",
              "      <th></th>\n",
              "    </tr>\n",
              "  </thead>\n",
              "  <tbody>\n",
              "    <tr>\n",
              "      <th>s4</th>\n",
              "      <td>Jailbirds New Orleans</td>\n",
              "    </tr>\n",
              "    <tr>\n",
              "      <th>s5883</th>\n",
              "      <td>Atelier</td>\n",
              "    </tr>\n",
              "    <tr>\n",
              "      <th>s224</th>\n",
              "      <td>John of God: The Crimes of a Spiritual Healer</td>\n",
              "    </tr>\n",
              "    <tr>\n",
              "      <th>s1659</th>\n",
              "      <td>Valentino</td>\n",
              "    </tr>\n",
              "    <tr>\n",
              "      <th>s4909</th>\n",
              "      <td>Goodnight DJ 1</td>\n",
              "    </tr>\n",
              "    <tr>\n",
              "      <th>s6358</th>\n",
              "      <td>Bondi Rescue</td>\n",
              "    </tr>\n",
              "    <tr>\n",
              "      <th>s1004</th>\n",
              "      <td>Zero</td>\n",
              "    </tr>\n",
              "    <tr>\n",
              "      <th>s701</th>\n",
              "      <td>Record of Ragnarok</td>\n",
              "    </tr>\n",
              "    <tr>\n",
              "      <th>s8654</th>\n",
              "      <td>Ugly Duckling</td>\n",
              "    </tr>\n",
              "    <tr>\n",
              "      <th>s5303</th>\n",
              "      <td>Little Evil</td>\n",
              "    </tr>\n",
              "  </tbody>\n",
              "</table>\n",
              "</div><br><label><b>dtype:</b> object</label>"
            ],
            "text/plain": [
              "show_id\n",
              "s4                               Jailbirds New Orleans\n",
              "s5883                                          Atelier\n",
              "s224     John of God: The Crimes of a Spiritual Healer\n",
              "s1659                                        Valentino\n",
              "s4909                                   Goodnight DJ 1\n",
              "s6358                                     Bondi Rescue\n",
              "s1004                                             Zero\n",
              "s701                                Record of Ragnarok\n",
              "s8654                                    Ugly Duckling\n",
              "s5303                                      Little Evil\n",
              "Name: title, dtype: object"
            ]
          },
          "execution_count": 386,
          "metadata": {},
          "output_type": "execute_result"
        }
      ],
      "source": [
        "import numpy as np\n",
        "# select the movie for which you want to get recommendations.\n",
        "\n",
        "show_id = 's4'\n",
        "# find the 10 movies most similar to the movie with the ID movie_id\n",
        "rec_ids, rec_distances = recommend(show_id, X, item_mapper, item_inv_mapper, k=10)\n",
        "\n",
        "print(f\"\\n\\nA user who liked the show: {df_titles.loc[show_id, 'title']},\\n you may also enjoy the 10 following shows:\\n\")\n",
        "df_titles.loc[rec_ids, 'title']"
      ]
    },
    {
      "cell_type": "markdown",
      "metadata": {
        "id": "i6fjHUdnFc8G"
      },
      "source": [
        "# **Deployment**"
      ]
    },
    {
      "cell_type": "code",
      "execution_count": 387,
      "metadata": {
        "id": "M9JPIq3ZGcAw"
      },
      "outputs": [],
      "source": [
        "k= 15\n",
        "\n",
        "df_recommendations = pd.DataFrame(columns=['If you watched'], index=item_mapper)\n",
        "for i in range(1, k):\n",
        "  df_recommendations[f'Recommendation {i}'] = None\n",
        "\n",
        "for row in df_recommendations.itertuples():\n",
        "  # Get a ranked list of recommendati ons\n",
        "  rec_ids, rec_distances = recommend(row[0], X, item_mapper, item_inv_mapper, k=k, messages=False)\n",
        "\n",
        "  # Get the title of the 'watched' movie in this row\n",
        "  df_recommendations.at[row[0], 'If you watched'] = df_titles.at[row[0], 'title']\n",
        "\n",
        "  # Get the titles of the recommended movies\n",
        "  for i, r in enumerate(rec_ids):\n",
        "    df_recommendations.at[row[0], f'Recommendation {i+1}'] = df_titles.at[r, 'title']"
      ]
    },
    {
      "cell_type": "markdown",
      "metadata": {
        "id": "nOO6JvMyJzBO"
      },
      "source": [
        "Get recommendations for the last 10 movies"
      ]
    },
    {
      "cell_type": "code",
      "execution_count": 388,
      "metadata": {
        "colab": {
          "base_uri": "https://localhost:8080/",
          "height": 747
        },
        "id": "yubLbSqbIXir",
        "outputId": "3d59743a-2a6f-442b-98d4-df8b8819ddbf"
      },
      "outputs": [
        {
          "data": {
            "application/vnd.google.colaboratory.intrinsic+json": {
              "summary": "{\n  \"name\": \"df_recommendations\",\n  \"rows\": 10,\n  \"fields\": [\n    {\n      \"column\": \"If you watched\",\n      \"properties\": {\n        \"dtype\": \"string\",\n        \"num_unique_values\": 10,\n        \"samples\": [\n          \"My Travel Buddy\",\n          \"Yasuke\",\n          \"Kid Cosmic\"\n        ],\n        \"semantic_type\": \"\",\n        \"description\": \"\"\n      }\n    },\n    {\n      \"column\": \"Recommendation 1\",\n      \"properties\": {\n        \"dtype\": \"string\",\n        \"num_unique_values\": 10,\n        \"samples\": [\n          \"Riphagen - The Untouchable\",\n          \"Waar\",\n          \"Mighty Little Bheem: Kite Festival\"\n        ],\n        \"semantic_type\": \"\",\n        \"description\": \"\"\n      }\n    },\n    {\n      \"column\": \"Recommendation 2\",\n      \"properties\": {\n        \"dtype\": \"string\",\n        \"num_unique_values\": 10,\n        \"samples\": [\n          \"High & Low The Movie 2 / End of Sky\",\n          \"American Outlaws\",\n          \"The Ranch\"\n        ],\n        \"semantic_type\": \"\",\n        \"description\": \"\"\n      }\n    },\n    {\n      \"column\": \"Recommendation 3\",\n      \"properties\": {\n        \"dtype\": \"string\",\n        \"num_unique_values\": 10,\n        \"samples\": [\n          \"The Third Party\",\n          \"Super Me\",\n          \"Until Dawn\"\n        ],\n        \"semantic_type\": \"\",\n        \"description\": \"\"\n      }\n    },\n    {\n      \"column\": \"Recommendation 4\",\n      \"properties\": {\n        \"dtype\": \"string\",\n        \"num_unique_values\": 9,\n        \"samples\": [\n          \"Sakaling Maging Tayo\",\n          \"Gunjan Saxena: The Kargil Girl\",\n          \"Servant of the People\"\n        ],\n        \"semantic_type\": \"\",\n        \"description\": \"\"\n      }\n    },\n    {\n      \"column\": \"Recommendation 5\",\n      \"properties\": {\n        \"dtype\": \"string\",\n        \"num_unique_values\": 10,\n        \"samples\": [\n          \"Omar and Salma 3\",\n          \"The Daily Life of the Immortal King\",\n          \"The Chair\"\n        ],\n        \"semantic_type\": \"\",\n        \"description\": \"\"\n      }\n    },\n    {\n      \"column\": \"Recommendation 6\",\n      \"properties\": {\n        \"dtype\": \"string\",\n        \"num_unique_values\": 10,\n        \"samples\": [\n          \"Legal Hash\",\n          \"Top 10 Secrets and Mysteries\",\n          \"Derek\"\n        ],\n        \"semantic_type\": \"\",\n        \"description\": \"\"\n      }\n    },\n    {\n      \"column\": \"Recommendation 7\",\n      \"properties\": {\n        \"dtype\": \"string\",\n        \"num_unique_values\": 10,\n        \"samples\": [\n          \"Seoul Searching\",\n          \"Thaandavam\",\n          \"Mystery Science Theater 3000: The Return\"\n        ],\n        \"semantic_type\": \"\",\n        \"description\": \"\"\n      }\n    },\n    {\n      \"column\": \"Recommendation 8\",\n      \"properties\": {\n        \"dtype\": \"string\",\n        \"num_unique_values\": 9,\n        \"samples\": [\n          \"Whipped\",\n          \"Kill la Kill\",\n          \"The Kominsky Method\"\n        ],\n        \"semantic_type\": \"\",\n        \"description\": \"\"\n      }\n    },\n    {\n      \"column\": \"Recommendation 9\",\n      \"properties\": {\n        \"dtype\": \"string\",\n        \"num_unique_values\": 9,\n        \"samples\": [\n          \"The Family Court\",\n          \"Greatest Events of WWII in Colour\",\n          \"Zig & Sharko\"\n        ],\n        \"semantic_type\": \"\",\n        \"description\": \"\"\n      }\n    },\n    {\n      \"column\": \"Recommendation 10\",\n      \"properties\": {\n        \"dtype\": \"string\",\n        \"num_unique_values\": 9,\n        \"samples\": [\n          \"While We're Young\",\n          \"Little Things\",\n          \"Accidentally in Love\"\n        ],\n        \"semantic_type\": \"\",\n        \"description\": \"\"\n      }\n    },\n    {\n      \"column\": \"Recommendation 11\",\n      \"properties\": {\n        \"dtype\": \"string\",\n        \"num_unique_values\": 8,\n        \"samples\": [\n          \"Who Killed Little Gregory?\",\n          \"A Week Away\",\n          \"Haikyu!!\"\n        ],\n        \"semantic_type\": \"\",\n        \"description\": \"\"\n      }\n    },\n    {\n      \"column\": \"Recommendation 12\",\n      \"properties\": {\n        \"dtype\": \"string\",\n        \"num_unique_values\": 7,\n        \"samples\": [\n          \"SCAMS\",\n          \"Hotel Beau S\\u00e9jour\",\n          \"Milestone\"\n        ],\n        \"semantic_type\": \"\",\n        \"description\": \"\"\n      }\n    },\n    {\n      \"column\": \"Recommendation 13\",\n      \"properties\": {\n        \"dtype\": \"string\",\n        \"num_unique_values\": 8,\n        \"samples\": [\n          \"Katla\",\n          \"The Women and the Murderer\",\n          \"Greatest Events of WWII in Colour\"\n        ],\n        \"semantic_type\": \"\",\n        \"description\": \"\"\n      }\n    },\n    {\n      \"column\": \"Recommendation 14\",\n      \"properties\": {\n        \"dtype\": \"string\",\n        \"num_unique_values\": 6,\n        \"samples\": [\n          \"Little Things\",\n          \"Wait My Youth\",\n          \"Super Me\"\n        ],\n        \"semantic_type\": \"\",\n        \"description\": \"\"\n      }\n    },\n    {\n      \"column\": \"Recommendation 15\",\n      \"properties\": {\n        \"dtype\": \"string\",\n        \"num_unique_values\": 8,\n        \"samples\": [\n          \"Shine On with Reese\",\n          \"Jupiter's Legacy\",\n          \"Harry & Bunnie\"\n        ],\n        \"semantic_type\": \"\",\n        \"description\": \"\"\n      }\n    }\n  ]\n}",
              "type": "dataframe"
            },
            "text/html": [
              "\n",
              "  <div id=\"df-7fb16cf3-ecf9-4e2c-bdbb-f8e222577494\" class=\"colab-df-container\">\n",
              "    <div>\n",
              "<style scoped>\n",
              "    .dataframe tbody tr th:only-of-type {\n",
              "        vertical-align: middle;\n",
              "    }\n",
              "\n",
              "    .dataframe tbody tr th {\n",
              "        vertical-align: top;\n",
              "    }\n",
              "\n",
              "    .dataframe thead th {\n",
              "        text-align: right;\n",
              "    }\n",
              "</style>\n",
              "<table border=\"1\" class=\"dataframe\">\n",
              "  <thead>\n",
              "    <tr style=\"text-align: right;\">\n",
              "      <th></th>\n",
              "      <th>If you watched</th>\n",
              "      <th>Recommendation 1</th>\n",
              "      <th>Recommendation 2</th>\n",
              "      <th>Recommendation 3</th>\n",
              "      <th>Recommendation 4</th>\n",
              "      <th>Recommendation 5</th>\n",
              "      <th>Recommendation 6</th>\n",
              "      <th>Recommendation 7</th>\n",
              "      <th>Recommendation 8</th>\n",
              "      <th>Recommendation 9</th>\n",
              "      <th>Recommendation 10</th>\n",
              "      <th>Recommendation 11</th>\n",
              "      <th>Recommendation 12</th>\n",
              "      <th>Recommendation 13</th>\n",
              "      <th>Recommendation 14</th>\n",
              "      <th>Recommendation 15</th>\n",
              "    </tr>\n",
              "  </thead>\n",
              "  <tbody>\n",
              "    <tr>\n",
              "      <th>s962</th>\n",
              "      <td>The Mitchells vs. The Machines</td>\n",
              "      <td>Truckbhar Swapna</td>\n",
              "      <td>Ek Jaan Hain Hum</td>\n",
              "      <td>Our Souls at Night</td>\n",
              "      <td>The Old Thieves: The Legend of Artegios</td>\n",
              "      <td>B: The Beginning</td>\n",
              "      <td>Run</td>\n",
              "      <td>The Idhun Chronicles</td>\n",
              "      <td>Deep Blue Sea</td>\n",
              "      <td>Alexis Viera: A Story of Surviving</td>\n",
              "      <td>Creep 2</td>\n",
              "      <td>Haikyu!!</td>\n",
              "      <td>SCAMS</td>\n",
              "      <td>Greatest Events of WWII in Colour</td>\n",
              "      <td>Little Things</td>\n",
              "      <td>Harry &amp; Bunnie</td>\n",
              "    </tr>\n",
              "    <tr>\n",
              "      <th>s966</th>\n",
              "      <td>Yasuke</td>\n",
              "      <td>Waar</td>\n",
              "      <td>American Outlaws</td>\n",
              "      <td>Super Me</td>\n",
              "      <td>Gunjan Saxena: The Kargil Girl</td>\n",
              "      <td>The Daily Life of the Immortal King</td>\n",
              "      <td>Top 10 Secrets and Mysteries</td>\n",
              "      <td>Thaandavam</td>\n",
              "      <td>Kill la Kill</td>\n",
              "      <td>Greatest Events of WWII in Colour</td>\n",
              "      <td>Little Things</td>\n",
              "      <td>Who Killed Little Gregory?</td>\n",
              "      <td>Hotel Beau Séjour</td>\n",
              "      <td>Katla</td>\n",
              "      <td>Wait My Youth</td>\n",
              "      <td>Shine On with Reese</td>\n",
              "    </tr>\n",
              "    <tr>\n",
              "      <th>s968</th>\n",
              "      <td>Headspace Guide to Sleep</td>\n",
              "      <td>Flowers</td>\n",
              "      <td>Love Cheque Charge</td>\n",
              "      <td>The Comedy Lineup</td>\n",
              "      <td>The Making of Frozen Planet</td>\n",
              "      <td>The Uncanny Counter</td>\n",
              "      <td>Rotten</td>\n",
              "      <td>The Frozen Dead</td>\n",
              "      <td>Red vs. Blue</td>\n",
              "      <td>My Travel Buddy</td>\n",
              "      <td>Wait My Youth</td>\n",
              "      <td>Shine On with Reese</td>\n",
              "      <td>Into the Forest</td>\n",
              "      <td>44 Cats</td>\n",
              "      <td>Little Singham: Mahabali</td>\n",
              "      <td>Wandering Stars</td>\n",
              "    </tr>\n",
              "    <tr>\n",
              "      <th>s973</th>\n",
              "      <td>Fatma</td>\n",
              "      <td>Intersection</td>\n",
              "      <td>Persona</td>\n",
              "      <td>Secret of the Nile</td>\n",
              "      <td>All Hail King Julien: Exiled</td>\n",
              "      <td>Lost &amp; Found Music Studios</td>\n",
              "      <td>Black Earth Rising</td>\n",
              "      <td>We Are the Wave</td>\n",
              "      <td>Revenge</td>\n",
              "      <td>Traitors</td>\n",
              "      <td>Little Singham: Kaal Ki Tabaahi</td>\n",
              "      <td>Katla</td>\n",
              "      <td>Hotel Beau Séjour</td>\n",
              "      <td>Who Killed Little Gregory?</td>\n",
              "      <td>Little Things</td>\n",
              "      <td>Greatest Events of WWII in Colour</td>\n",
              "    </tr>\n",
              "    <tr>\n",
              "      <th>s977</th>\n",
              "      <td>Among Family</td>\n",
              "      <td>Austin Powers: International Man of Mystery</td>\n",
              "      <td>Among Family</td>\n",
              "      <td>House Party 2</td>\n",
              "      <td>The World Is Yours</td>\n",
              "      <td>Love You... Love You Not</td>\n",
              "      <td>Mimi</td>\n",
              "      <td>Julie &amp; Julia</td>\n",
              "      <td>Zig &amp; Sharko</td>\n",
              "      <td>The I-Land</td>\n",
              "      <td>Rita</td>\n",
              "      <td>Grand Designs</td>\n",
              "      <td>The Rational Life</td>\n",
              "      <td>Harry &amp; Bunnie</td>\n",
              "      <td>Who Killed Little Gregory?</td>\n",
              "      <td>Little Things</td>\n",
              "    </tr>\n",
              "    <tr>\n",
              "      <th>s98</th>\n",
              "      <td>Kid Cosmic</td>\n",
              "      <td>Mighty Little Bheem: Kite Festival</td>\n",
              "      <td>The Ranch</td>\n",
              "      <td>Until Dawn</td>\n",
              "      <td>Servant of the People</td>\n",
              "      <td>The Chair</td>\n",
              "      <td>Derek</td>\n",
              "      <td>Mystery Science Theater 3000: The Return</td>\n",
              "      <td>The Kominsky Method</td>\n",
              "      <td>Zig &amp; Sharko</td>\n",
              "      <td>Accidentally in Love</td>\n",
              "      <td>A Week Away</td>\n",
              "      <td>While We're Young</td>\n",
              "      <td>The Women and the Murderer</td>\n",
              "      <td>Milestone</td>\n",
              "      <td>Jupiter's Legacy</td>\n",
              "    </tr>\n",
              "    <tr>\n",
              "      <th>s985</th>\n",
              "      <td>Kara Bela</td>\n",
              "      <td>El Che</td>\n",
              "      <td>Kara Bela</td>\n",
              "      <td>Wave of Cinema: Surat dari Timur</td>\n",
              "      <td>Bhouri</td>\n",
              "      <td>Something Huge</td>\n",
              "      <td>Master</td>\n",
              "      <td>Paskal</td>\n",
              "      <td>Pizza</td>\n",
              "      <td>Badha</td>\n",
              "      <td>Marseille</td>\n",
              "      <td>The Women and the Murderer</td>\n",
              "      <td>Milestone</td>\n",
              "      <td>Jupiter's Legacy</td>\n",
              "      <td>Super Me</td>\n",
              "      <td>Use For My Talent</td>\n",
              "    </tr>\n",
              "    <tr>\n",
              "      <th>s988</th>\n",
              "      <td>Legal Hash</td>\n",
              "      <td>Legal Hash</td>\n",
              "      <td>Seoul Searching</td>\n",
              "      <td>High &amp; Low The Movie 2 / End of Sky</td>\n",
              "      <td>Sakaling Maging Tayo</td>\n",
              "      <td>The Third Party</td>\n",
              "      <td>Riphagen - The Untouchable</td>\n",
              "      <td>My Travel Buddy</td>\n",
              "      <td>Whipped</td>\n",
              "      <td>The Family Court</td>\n",
              "      <td>While We're Young</td>\n",
              "      <td>The Women and the Murderer</td>\n",
              "      <td>Milestone</td>\n",
              "      <td>Jupiter's Legacy</td>\n",
              "      <td>Super Me</td>\n",
              "      <td>Use For My Talent</td>\n",
              "    </tr>\n",
              "    <tr>\n",
              "      <th>s990</th>\n",
              "      <td>My Travel Buddy</td>\n",
              "      <td>Riphagen - The Untouchable</td>\n",
              "      <td>High &amp; Low The Movie 2 / End of Sky</td>\n",
              "      <td>The Third Party</td>\n",
              "      <td>Sakaling Maging Tayo</td>\n",
              "      <td>Omar and Salma 3</td>\n",
              "      <td>Legal Hash</td>\n",
              "      <td>Seoul Searching</td>\n",
              "      <td>Whipped</td>\n",
              "      <td>The Family Court</td>\n",
              "      <td>While We're Young</td>\n",
              "      <td>The Women and the Murderer</td>\n",
              "      <td>Milestone</td>\n",
              "      <td>Jupiter's Legacy</td>\n",
              "      <td>Super Me</td>\n",
              "      <td>Use For My Talent</td>\n",
              "    </tr>\n",
              "    <tr>\n",
              "      <th>s994</th>\n",
              "      <td>Shadow and Bone</td>\n",
              "      <td>Ares</td>\n",
              "      <td>The Umbrella Academy</td>\n",
              "      <td>Once Upon A Time In Lingjian Mountain</td>\n",
              "      <td>The Dragon Prince</td>\n",
              "      <td>A House of Blocks</td>\n",
              "      <td>Parasyte: The Maxim</td>\n",
              "      <td>Supergirl</td>\n",
              "      <td>Star Trek: Enterprise</td>\n",
              "      <td>Mystery Science Theater 3000: The Return</td>\n",
              "      <td>Haikyu!!</td>\n",
              "      <td>SCAMS</td>\n",
              "      <td>Greatest Events of WWII in Colour</td>\n",
              "      <td>Little Things</td>\n",
              "      <td>Who Killed Little Gregory?</td>\n",
              "      <td>Little Singham: Kaal Ki Tabaahi</td>\n",
              "    </tr>\n",
              "  </tbody>\n",
              "</table>\n",
              "</div>\n",
              "    <div class=\"colab-df-buttons\">\n",
              "\n",
              "  <div class=\"colab-df-container\">\n",
              "    <button class=\"colab-df-convert\" onclick=\"convertToInteractive('df-7fb16cf3-ecf9-4e2c-bdbb-f8e222577494')\"\n",
              "            title=\"Convert this dataframe to an interactive table.\"\n",
              "            style=\"display:none;\">\n",
              "\n",
              "  <svg xmlns=\"http://www.w3.org/2000/svg\" height=\"24px\" viewBox=\"0 -960 960 960\">\n",
              "    <path d=\"M120-120v-720h720v720H120Zm60-500h600v-160H180v160Zm220 220h160v-160H400v160Zm0 220h160v-160H400v160ZM180-400h160v-160H180v160Zm440 0h160v-160H620v160ZM180-180h160v-160H180v160Zm440 0h160v-160H620v160Z\"/>\n",
              "  </svg>\n",
              "    </button>\n",
              "\n",
              "  <style>\n",
              "    .colab-df-container {\n",
              "      display:flex;\n",
              "      gap: 12px;\n",
              "    }\n",
              "\n",
              "    .colab-df-convert {\n",
              "      background-color: #E8F0FE;\n",
              "      border: none;\n",
              "      border-radius: 50%;\n",
              "      cursor: pointer;\n",
              "      display: none;\n",
              "      fill: #1967D2;\n",
              "      height: 32px;\n",
              "      padding: 0 0 0 0;\n",
              "      width: 32px;\n",
              "    }\n",
              "\n",
              "    .colab-df-convert:hover {\n",
              "      background-color: #E2EBFA;\n",
              "      box-shadow: 0px 1px 2px rgba(60, 64, 67, 0.3), 0px 1px 3px 1px rgba(60, 64, 67, 0.15);\n",
              "      fill: #174EA6;\n",
              "    }\n",
              "\n",
              "    .colab-df-buttons div {\n",
              "      margin-bottom: 4px;\n",
              "    }\n",
              "\n",
              "    [theme=dark] .colab-df-convert {\n",
              "      background-color: #3B4455;\n",
              "      fill: #D2E3FC;\n",
              "    }\n",
              "\n",
              "    [theme=dark] .colab-df-convert:hover {\n",
              "      background-color: #434B5C;\n",
              "      box-shadow: 0px 1px 3px 1px rgba(0, 0, 0, 0.15);\n",
              "      filter: drop-shadow(0px 1px 2px rgba(0, 0, 0, 0.3));\n",
              "      fill: #FFFFFF;\n",
              "    }\n",
              "  </style>\n",
              "\n",
              "    <script>\n",
              "      const buttonEl =\n",
              "        document.querySelector('#df-7fb16cf3-ecf9-4e2c-bdbb-f8e222577494 button.colab-df-convert');\n",
              "      buttonEl.style.display =\n",
              "        google.colab.kernel.accessAllowed ? 'block' : 'none';\n",
              "\n",
              "      async function convertToInteractive(key) {\n",
              "        const element = document.querySelector('#df-7fb16cf3-ecf9-4e2c-bdbb-f8e222577494');\n",
              "        const dataTable =\n",
              "          await google.colab.kernel.invokeFunction('convertToInteractive',\n",
              "                                                    [key], {});\n",
              "        if (!dataTable) return;\n",
              "\n",
              "        const docLinkHtml = 'Like what you see? Visit the ' +\n",
              "          '<a target=\"_blank\" href=https://colab.research.google.com/notebooks/data_table.ipynb>data table notebook</a>'\n",
              "          + ' to learn more about interactive tables.';\n",
              "        element.innerHTML = '';\n",
              "        dataTable['output_type'] = 'display_data';\n",
              "        await google.colab.output.renderOutput(dataTable, element);\n",
              "        const docLink = document.createElement('div');\n",
              "        docLink.innerHTML = docLinkHtml;\n",
              "        element.appendChild(docLink);\n",
              "      }\n",
              "    </script>\n",
              "  </div>\n",
              "\n",
              "\n",
              "<div id=\"df-dc46fa72-13c5-462b-84f2-96835690c0e8\">\n",
              "  <button class=\"colab-df-quickchart\" onclick=\"quickchart('df-dc46fa72-13c5-462b-84f2-96835690c0e8')\"\n",
              "            title=\"Suggest charts\"\n",
              "            style=\"display:none;\">\n",
              "\n",
              "<svg xmlns=\"http://www.w3.org/2000/svg\" height=\"24px\"viewBox=\"0 0 24 24\"\n",
              "     width=\"24px\">\n",
              "    <g>\n",
              "        <path d=\"M19 3H5c-1.1 0-2 .9-2 2v14c0 1.1.9 2 2 2h14c1.1 0 2-.9 2-2V5c0-1.1-.9-2-2-2zM9 17H7v-7h2v7zm4 0h-2V7h2v10zm4 0h-2v-4h2v4z\"/>\n",
              "    </g>\n",
              "</svg>\n",
              "  </button>\n",
              "\n",
              "<style>\n",
              "  .colab-df-quickchart {\n",
              "      --bg-color: #E8F0FE;\n",
              "      --fill-color: #1967D2;\n",
              "      --hover-bg-color: #E2EBFA;\n",
              "      --hover-fill-color: #174EA6;\n",
              "      --disabled-fill-color: #AAA;\n",
              "      --disabled-bg-color: #DDD;\n",
              "  }\n",
              "\n",
              "  [theme=dark] .colab-df-quickchart {\n",
              "      --bg-color: #3B4455;\n",
              "      --fill-color: #D2E3FC;\n",
              "      --hover-bg-color: #434B5C;\n",
              "      --hover-fill-color: #FFFFFF;\n",
              "      --disabled-bg-color: #3B4455;\n",
              "      --disabled-fill-color: #666;\n",
              "  }\n",
              "\n",
              "  .colab-df-quickchart {\n",
              "    background-color: var(--bg-color);\n",
              "    border: none;\n",
              "    border-radius: 50%;\n",
              "    cursor: pointer;\n",
              "    display: none;\n",
              "    fill: var(--fill-color);\n",
              "    height: 32px;\n",
              "    padding: 0;\n",
              "    width: 32px;\n",
              "  }\n",
              "\n",
              "  .colab-df-quickchart:hover {\n",
              "    background-color: var(--hover-bg-color);\n",
              "    box-shadow: 0 1px 2px rgba(60, 64, 67, 0.3), 0 1px 3px 1px rgba(60, 64, 67, 0.15);\n",
              "    fill: var(--button-hover-fill-color);\n",
              "  }\n",
              "\n",
              "  .colab-df-quickchart-complete:disabled,\n",
              "  .colab-df-quickchart-complete:disabled:hover {\n",
              "    background-color: var(--disabled-bg-color);\n",
              "    fill: var(--disabled-fill-color);\n",
              "    box-shadow: none;\n",
              "  }\n",
              "\n",
              "  .colab-df-spinner {\n",
              "    border: 2px solid var(--fill-color);\n",
              "    border-color: transparent;\n",
              "    border-bottom-color: var(--fill-color);\n",
              "    animation:\n",
              "      spin 1s steps(1) infinite;\n",
              "  }\n",
              "\n",
              "  @keyframes spin {\n",
              "    0% {\n",
              "      border-color: transparent;\n",
              "      border-bottom-color: var(--fill-color);\n",
              "      border-left-color: var(--fill-color);\n",
              "    }\n",
              "    20% {\n",
              "      border-color: transparent;\n",
              "      border-left-color: var(--fill-color);\n",
              "      border-top-color: var(--fill-color);\n",
              "    }\n",
              "    30% {\n",
              "      border-color: transparent;\n",
              "      border-left-color: var(--fill-color);\n",
              "      border-top-color: var(--fill-color);\n",
              "      border-right-color: var(--fill-color);\n",
              "    }\n",
              "    40% {\n",
              "      border-color: transparent;\n",
              "      border-right-color: var(--fill-color);\n",
              "      border-top-color: var(--fill-color);\n",
              "    }\n",
              "    60% {\n",
              "      border-color: transparent;\n",
              "      border-right-color: var(--fill-color);\n",
              "    }\n",
              "    80% {\n",
              "      border-color: transparent;\n",
              "      border-right-color: var(--fill-color);\n",
              "      border-bottom-color: var(--fill-color);\n",
              "    }\n",
              "    90% {\n",
              "      border-color: transparent;\n",
              "      border-bottom-color: var(--fill-color);\n",
              "    }\n",
              "  }\n",
              "</style>\n",
              "\n",
              "  <script>\n",
              "    async function quickchart(key) {\n",
              "      const quickchartButtonEl =\n",
              "        document.querySelector('#' + key + ' button');\n",
              "      quickchartButtonEl.disabled = true;  // To prevent multiple clicks.\n",
              "      quickchartButtonEl.classList.add('colab-df-spinner');\n",
              "      try {\n",
              "        const charts = await google.colab.kernel.invokeFunction(\n",
              "            'suggestCharts', [key], {});\n",
              "      } catch (error) {\n",
              "        console.error('Error during call to suggestCharts:', error);\n",
              "      }\n",
              "      quickchartButtonEl.classList.remove('colab-df-spinner');\n",
              "      quickchartButtonEl.classList.add('colab-df-quickchart-complete');\n",
              "    }\n",
              "    (() => {\n",
              "      let quickchartButtonEl =\n",
              "        document.querySelector('#df-dc46fa72-13c5-462b-84f2-96835690c0e8 button');\n",
              "      quickchartButtonEl.style.display =\n",
              "        google.colab.kernel.accessAllowed ? 'block' : 'none';\n",
              "    })();\n",
              "  </script>\n",
              "</div>\n",
              "\n",
              "    </div>\n",
              "  </div>\n"
            ],
            "text/plain": [
              "                      If you watched  \\\n",
              "s962  The Mitchells vs. The Machines   \n",
              "s966                          Yasuke   \n",
              "s968        Headspace Guide to Sleep   \n",
              "s973                           Fatma   \n",
              "s977                    Among Family   \n",
              "s98                       Kid Cosmic   \n",
              "s985                       Kara Bela   \n",
              "s988                      Legal Hash   \n",
              "s990                 My Travel Buddy   \n",
              "s994                 Shadow and Bone   \n",
              "\n",
              "                                 Recommendation 1  \\\n",
              "s962                             Truckbhar Swapna   \n",
              "s966                                         Waar   \n",
              "s968                                      Flowers   \n",
              "s973                                 Intersection   \n",
              "s977  Austin Powers: International Man of Mystery   \n",
              "s98            Mighty Little Bheem: Kite Festival   \n",
              "s985                                       El Che   \n",
              "s988                                   Legal Hash   \n",
              "s990                   Riphagen - The Untouchable   \n",
              "s994                                         Ares   \n",
              "\n",
              "                         Recommendation 2  \\\n",
              "s962                     Ek Jaan Hain Hum   \n",
              "s966                     American Outlaws   \n",
              "s968                   Love Cheque Charge   \n",
              "s973                              Persona   \n",
              "s977                         Among Family   \n",
              "s98                             The Ranch   \n",
              "s985                            Kara Bela   \n",
              "s988                      Seoul Searching   \n",
              "s990  High & Low The Movie 2 / End of Sky   \n",
              "s994                 The Umbrella Academy   \n",
              "\n",
              "                           Recommendation 3  \\\n",
              "s962                     Our Souls at Night   \n",
              "s966                               Super Me   \n",
              "s968                      The Comedy Lineup   \n",
              "s973                     Secret of the Nile   \n",
              "s977                          House Party 2   \n",
              "s98                              Until Dawn   \n",
              "s985       Wave of Cinema: Surat dari Timur   \n",
              "s988    High & Low The Movie 2 / End of Sky   \n",
              "s990                        The Third Party   \n",
              "s994  Once Upon A Time In Lingjian Mountain   \n",
              "\n",
              "                             Recommendation 4  \\\n",
              "s962  The Old Thieves: The Legend of Artegios   \n",
              "s966           Gunjan Saxena: The Kargil Girl   \n",
              "s968              The Making of Frozen Planet   \n",
              "s973             All Hail King Julien: Exiled   \n",
              "s977                       The World Is Yours   \n",
              "s98                     Servant of the People   \n",
              "s985                                   Bhouri   \n",
              "s988                     Sakaling Maging Tayo   \n",
              "s990                     Sakaling Maging Tayo   \n",
              "s994                        The Dragon Prince   \n",
              "\n",
              "                         Recommendation 5              Recommendation 6  \\\n",
              "s962                     B: The Beginning                           Run   \n",
              "s966  The Daily Life of the Immortal King  Top 10 Secrets and Mysteries   \n",
              "s968                  The Uncanny Counter                        Rotten   \n",
              "s973           Lost & Found Music Studios            Black Earth Rising   \n",
              "s977             Love You... Love You Not                          Mimi   \n",
              "s98                             The Chair                         Derek   \n",
              "s985                       Something Huge                        Master   \n",
              "s988                      The Third Party    Riphagen - The Untouchable   \n",
              "s990                     Omar and Salma 3                    Legal Hash   \n",
              "s994                    A House of Blocks           Parasyte: The Maxim   \n",
              "\n",
              "                              Recommendation 7       Recommendation 8  \\\n",
              "s962                      The Idhun Chronicles          Deep Blue Sea   \n",
              "s966                                Thaandavam           Kill la Kill   \n",
              "s968                           The Frozen Dead           Red vs. Blue   \n",
              "s973                           We Are the Wave                Revenge   \n",
              "s977                             Julie & Julia           Zig & Sharko   \n",
              "s98   Mystery Science Theater 3000: The Return    The Kominsky Method   \n",
              "s985                                    Paskal                  Pizza   \n",
              "s988                           My Travel Buddy                Whipped   \n",
              "s990                           Seoul Searching                Whipped   \n",
              "s994                                 Supergirl  Star Trek: Enterprise   \n",
              "\n",
              "                              Recommendation 9  \\\n",
              "s962        Alexis Viera: A Story of Surviving   \n",
              "s966         Greatest Events of WWII in Colour   \n",
              "s968                           My Travel Buddy   \n",
              "s973                                  Traitors   \n",
              "s977                                The I-Land   \n",
              "s98                               Zig & Sharko   \n",
              "s985                                     Badha   \n",
              "s988                          The Family Court   \n",
              "s990                          The Family Court   \n",
              "s994  Mystery Science Theater 3000: The Return   \n",
              "\n",
              "                    Recommendation 10           Recommendation 11  \\\n",
              "s962                          Creep 2                    Haikyu!!   \n",
              "s966                    Little Things  Who Killed Little Gregory?   \n",
              "s968                    Wait My Youth         Shine On with Reese   \n",
              "s973  Little Singham: Kaal Ki Tabaahi                       Katla   \n",
              "s977                             Rita               Grand Designs   \n",
              "s98              Accidentally in Love                 A Week Away   \n",
              "s985                        Marseille  The Women and the Murderer   \n",
              "s988                While We're Young  The Women and the Murderer   \n",
              "s990                While We're Young  The Women and the Murderer   \n",
              "s994                         Haikyu!!                       SCAMS   \n",
              "\n",
              "                      Recommendation 12                  Recommendation 13  \\\n",
              "s962                              SCAMS  Greatest Events of WWII in Colour   \n",
              "s966                  Hotel Beau Séjour                              Katla   \n",
              "s968                    Into the Forest                            44 Cats   \n",
              "s973                  Hotel Beau Séjour         Who Killed Little Gregory?   \n",
              "s977                  The Rational Life                     Harry & Bunnie   \n",
              "s98                   While We're Young         The Women and the Murderer   \n",
              "s985                          Milestone                   Jupiter's Legacy   \n",
              "s988                          Milestone                   Jupiter's Legacy   \n",
              "s990                          Milestone                   Jupiter's Legacy   \n",
              "s994  Greatest Events of WWII in Colour                      Little Things   \n",
              "\n",
              "               Recommendation 14                  Recommendation 15  \n",
              "s962               Little Things                     Harry & Bunnie  \n",
              "s966               Wait My Youth                Shine On with Reese  \n",
              "s968    Little Singham: Mahabali                    Wandering Stars  \n",
              "s973               Little Things  Greatest Events of WWII in Colour  \n",
              "s977  Who Killed Little Gregory?                      Little Things  \n",
              "s98                    Milestone                   Jupiter's Legacy  \n",
              "s985                    Super Me                  Use For My Talent  \n",
              "s988                    Super Me                  Use For My Talent  \n",
              "s990                    Super Me                  Use For My Talent  \n",
              "s994  Who Killed Little Gregory?    Little Singham: Kaal Ki Tabaahi  "
            ]
          },
          "execution_count": 388,
          "metadata": {},
          "output_type": "execute_result"
        }
      ],
      "source": [
        "df_recommendations.tail(10)"
      ]
    },
    {
      "cell_type": "code",
      "execution_count": 390,
      "metadata": {
        "colab": {
          "base_uri": "https://localhost:8080/",
          "height": 400
        },
        "id": "2yaqw8mOWm2h",
        "outputId": "7f547f27-ae08-4369-d898-4dfe6c6badcd"
      },
      "outputs": [
        {
          "data": {
            "application/vnd.google.colaboratory.intrinsic+json": {
              "summary": "{\n  \"name\": \"df_ShowRecommendations\",\n  \"rows\": 1809,\n  \"fields\": [\n    {\n      \"column\": \"If you watched\",\n      \"properties\": {\n        \"dtype\": \"string\",\n        \"num_unique_values\": 1809,\n        \"samples\": [\n          \"s6938\",\n          \"s1306\",\n          \"s6510\"\n        ],\n        \"semantic_type\": \"\",\n        \"description\": \"\"\n      }\n    },\n    {\n      \"column\": \"Recommendation 1\",\n      \"properties\": {\n        \"dtype\": \"category\",\n        \"num_unique_values\": 722,\n        \"samples\": [\n          \"s30\",\n          \"s844\",\n          \"s5248\"\n        ],\n        \"semantic_type\": \"\",\n        \"description\": \"\"\n      }\n    },\n    {\n      \"column\": \"Recommendation 2\",\n      \"properties\": {\n        \"dtype\": \"category\",\n        \"num_unique_values\": 669,\n        \"samples\": [\n          \"s8787\",\n          \"s4428\",\n          \"s4692\"\n        ],\n        \"semantic_type\": \"\",\n        \"description\": \"\"\n      }\n    },\n    {\n      \"column\": \"Recommendation 3\",\n      \"properties\": {\n        \"dtype\": \"category\",\n        \"num_unique_values\": 661,\n        \"samples\": [\n          \"s1454\",\n          \"s3665\",\n          \"s6861\"\n        ],\n        \"semantic_type\": \"\",\n        \"description\": \"\"\n      }\n    },\n    {\n      \"column\": \"Recommendation 4\",\n      \"properties\": {\n        \"dtype\": \"category\",\n        \"num_unique_values\": 634,\n        \"samples\": [\n          \"s7613\",\n          \"s3847\",\n          \"s2128\"\n        ],\n        \"semantic_type\": \"\",\n        \"description\": \"\"\n      }\n    },\n    {\n      \"column\": \"Recommendation 5\",\n      \"properties\": {\n        \"dtype\": \"category\",\n        \"num_unique_values\": 665,\n        \"samples\": [\n          \"s4172\",\n          \"s994\",\n          \"s5803\"\n        ],\n        \"semantic_type\": \"\",\n        \"description\": \"\"\n      }\n    },\n    {\n      \"column\": \"Recommendation 6\",\n      \"properties\": {\n        \"dtype\": \"category\",\n        \"num_unique_values\": 647,\n        \"samples\": [\n          \"s169\",\n          \"s4991\",\n          \"s822\"\n        ],\n        \"semantic_type\": \"\",\n        \"description\": \"\"\n      }\n    },\n    {\n      \"column\": \"Recommendation 7\",\n      \"properties\": {\n        \"dtype\": \"category\",\n        \"num_unique_values\": 645,\n        \"samples\": [\n          \"s7876\",\n          \"s679\",\n          \"s7204\"\n        ],\n        \"semantic_type\": \"\",\n        \"description\": \"\"\n      }\n    },\n    {\n      \"column\": \"Recommendation 8\",\n      \"properties\": {\n        \"dtype\": \"category\",\n        \"num_unique_values\": 552,\n        \"samples\": [\n          \"s7536\",\n          \"s7393\",\n          \"s88\"\n        ],\n        \"semantic_type\": \"\",\n        \"description\": \"\"\n      }\n    },\n    {\n      \"column\": \"Recommendation 9\",\n      \"properties\": {\n        \"dtype\": \"category\",\n        \"num_unique_values\": 506,\n        \"samples\": [\n          \"s539\",\n          \"s8333\",\n          \"s4047\"\n        ],\n        \"semantic_type\": \"\",\n        \"description\": \"\"\n      }\n    },\n    {\n      \"column\": \"Recommendation 10\",\n      \"properties\": {\n        \"dtype\": \"category\",\n        \"num_unique_values\": 400,\n        \"samples\": [\n          \"s4209\",\n          \"s8262\",\n          \"s1068\"\n        ],\n        \"semantic_type\": \"\",\n        \"description\": \"\"\n      }\n    },\n    {\n      \"column\": \"Recommendation 11\",\n      \"properties\": {\n        \"dtype\": \"category\",\n        \"num_unique_values\": 308,\n        \"samples\": [\n          \"s2487\",\n          \"s1173\",\n          \"s1028\"\n        ],\n        \"semantic_type\": \"\",\n        \"description\": \"\"\n      }\n    },\n    {\n      \"column\": \"Recommendation 12\",\n      \"properties\": {\n        \"dtype\": \"category\",\n        \"num_unique_values\": 312,\n        \"samples\": [\n          \"s8393\",\n          \"s6890\",\n          \"s6474\"\n        ],\n        \"semantic_type\": \"\",\n        \"description\": \"\"\n      }\n    },\n    {\n      \"column\": \"Recommendation 13\",\n      \"properties\": {\n        \"dtype\": \"category\",\n        \"num_unique_values\": 301,\n        \"samples\": [\n          \"s426\",\n          \"s8347\",\n          \"s1540\"\n        ],\n        \"semantic_type\": \"\",\n        \"description\": \"\"\n      }\n    },\n    {\n      \"column\": \"Recommendation 14\",\n      \"properties\": {\n        \"dtype\": \"category\",\n        \"num_unique_values\": 290,\n        \"samples\": [\n          \"s1096\",\n          \"s5672\",\n          \"s3443\"\n        ],\n        \"semantic_type\": \"\",\n        \"description\": \"\"\n      }\n    },\n    {\n      \"column\": \"Recommendation 15\",\n      \"properties\": {\n        \"dtype\": \"category\",\n        \"num_unique_values\": 269,\n        \"samples\": [\n          \"s1256\",\n          \"s2526\",\n          \"s5763\"\n        ],\n        \"semantic_type\": \"\",\n        \"description\": \"\"\n      }\n    }\n  ]\n}",
              "type": "dataframe",
              "variable_name": "df_ShowRecommendations"
            },
            "text/html": [
              "\n",
              "  <div id=\"df-d388f31c-31f0-4cc8-a6f4-6f7e697a25b6\" class=\"colab-df-container\">\n",
              "    <div>\n",
              "<style scoped>\n",
              "    .dataframe tbody tr th:only-of-type {\n",
              "        vertical-align: middle;\n",
              "    }\n",
              "\n",
              "    .dataframe tbody tr th {\n",
              "        vertical-align: top;\n",
              "    }\n",
              "\n",
              "    .dataframe thead th {\n",
              "        text-align: right;\n",
              "    }\n",
              "</style>\n",
              "<table border=\"1\" class=\"dataframe\">\n",
              "  <thead>\n",
              "    <tr style=\"text-align: right;\">\n",
              "      <th></th>\n",
              "      <th>If you watched</th>\n",
              "      <th>Recommendation 1</th>\n",
              "      <th>Recommendation 2</th>\n",
              "      <th>Recommendation 3</th>\n",
              "      <th>Recommendation 4</th>\n",
              "      <th>Recommendation 5</th>\n",
              "      <th>Recommendation 6</th>\n",
              "      <th>Recommendation 7</th>\n",
              "      <th>Recommendation 8</th>\n",
              "      <th>Recommendation 9</th>\n",
              "      <th>Recommendation 10</th>\n",
              "      <th>Recommendation 11</th>\n",
              "      <th>Recommendation 12</th>\n",
              "      <th>Recommendation 13</th>\n",
              "      <th>Recommendation 14</th>\n",
              "      <th>Recommendation 15</th>\n",
              "    </tr>\n",
              "  </thead>\n",
              "  <tbody>\n",
              "    <tr>\n",
              "      <th>s1004</th>\n",
              "      <td>s1004</td>\n",
              "      <td>s6358</td>\n",
              "      <td>s1659</td>\n",
              "      <td>s224</td>\n",
              "      <td>s4909</td>\n",
              "      <td>s4</td>\n",
              "      <td>s5883</td>\n",
              "      <td>s3256</td>\n",
              "      <td>s8654</td>\n",
              "      <td>s1929</td>\n",
              "      <td>s701</td>\n",
              "      <td>s5303</td>\n",
              "      <td>s8732</td>\n",
              "      <td>s92</td>\n",
              "      <td>s910</td>\n",
              "      <td>s909</td>\n",
              "    </tr>\n",
              "    <tr>\n",
              "      <th>s1005</th>\n",
              "      <td>s1005</td>\n",
              "      <td>s5592</td>\n",
              "      <td>s5992</td>\n",
              "      <td>s6839</td>\n",
              "      <td>s7589</td>\n",
              "      <td>s3570</td>\n",
              "      <td>s7434</td>\n",
              "      <td>s4396</td>\n",
              "      <td>s5111</td>\n",
              "      <td>s5206</td>\n",
              "      <td>s5192</td>\n",
              "      <td>s8732</td>\n",
              "      <td>s92</td>\n",
              "      <td>s910</td>\n",
              "      <td>s909</td>\n",
              "      <td>s906</td>\n",
              "    </tr>\n",
              "    <tr>\n",
              "      <th>s1006</th>\n",
              "      <td>s1006</td>\n",
              "      <td>s2186</td>\n",
              "      <td>s3910</td>\n",
              "      <td>s6054</td>\n",
              "      <td>s5134</td>\n",
              "      <td>s5116</td>\n",
              "      <td>s2208</td>\n",
              "      <td>s883</td>\n",
              "      <td>s5074</td>\n",
              "      <td>s8646</td>\n",
              "      <td>s4516</td>\n",
              "      <td>s8732</td>\n",
              "      <td>s92</td>\n",
              "      <td>s910</td>\n",
              "      <td>s909</td>\n",
              "      <td>s906</td>\n",
              "    </tr>\n",
              "    <tr>\n",
              "      <th>s1007</th>\n",
              "      <td>s1007</td>\n",
              "      <td>s7165</td>\n",
              "      <td>s2933</td>\n",
              "      <td>s2812</td>\n",
              "      <td>s6092</td>\n",
              "      <td>s5858</td>\n",
              "      <td>s8249</td>\n",
              "      <td>s5779</td>\n",
              "      <td>s5108</td>\n",
              "      <td>s5341</td>\n",
              "      <td>s8079</td>\n",
              "      <td>s5219</td>\n",
              "      <td>s5206</td>\n",
              "      <td>s5192</td>\n",
              "      <td>s8732</td>\n",
              "      <td>s92</td>\n",
              "    </tr>\n",
              "    <tr>\n",
              "      <th>s1018</th>\n",
              "      <td>s1018</td>\n",
              "      <td>s4625</td>\n",
              "      <td>s1087</td>\n",
              "      <td>s478</td>\n",
              "      <td>s5744</td>\n",
              "      <td>s694</td>\n",
              "      <td>s2646</td>\n",
              "      <td>s6111</td>\n",
              "      <td>s6316</td>\n",
              "      <td>s193</td>\n",
              "      <td>s4646</td>\n",
              "      <td>s5192</td>\n",
              "      <td>s8732</td>\n",
              "      <td>s92</td>\n",
              "      <td>s910</td>\n",
              "      <td>s909</td>\n",
              "    </tr>\n",
              "    <tr>\n",
              "      <th>s1028</th>\n",
              "      <td>s1028</td>\n",
              "      <td>s6947</td>\n",
              "      <td>s6209</td>\n",
              "      <td>s8222</td>\n",
              "      <td>s8385</td>\n",
              "      <td>s2176</td>\n",
              "      <td>s1776</td>\n",
              "      <td>s8343</td>\n",
              "      <td>s1715</td>\n",
              "      <td>s1844</td>\n",
              "      <td>s5219</td>\n",
              "      <td>s5206</td>\n",
              "      <td>s5192</td>\n",
              "      <td>s8732</td>\n",
              "      <td>s92</td>\n",
              "      <td>s910</td>\n",
              "    </tr>\n",
              "    <tr>\n",
              "      <th>s1037</th>\n",
              "      <td>s1037</td>\n",
              "      <td>s6635</td>\n",
              "      <td>s3892</td>\n",
              "      <td>s5783</td>\n",
              "      <td>s162</td>\n",
              "      <td>s4937</td>\n",
              "      <td>s7599</td>\n",
              "      <td>s3583</td>\n",
              "      <td>s5451</td>\n",
              "      <td>s8221</td>\n",
              "      <td>s2391</td>\n",
              "      <td>s3955</td>\n",
              "      <td>s4648</td>\n",
              "      <td>s8218</td>\n",
              "      <td>s5497</td>\n",
              "      <td>s4986</td>\n",
              "    </tr>\n",
              "    <tr>\n",
              "      <th>s1040</th>\n",
              "      <td>s1040</td>\n",
              "      <td>s6128</td>\n",
              "      <td>s1040</td>\n",
              "      <td>s46</td>\n",
              "      <td>s8658</td>\n",
              "      <td>s5267</td>\n",
              "      <td>s7713</td>\n",
              "      <td>s3380</td>\n",
              "      <td>s8523</td>\n",
              "      <td>s8623</td>\n",
              "      <td>s263</td>\n",
              "      <td>s8732</td>\n",
              "      <td>s92</td>\n",
              "      <td>s910</td>\n",
              "      <td>s909</td>\n",
              "      <td>s906</td>\n",
              "    </tr>\n",
              "    <tr>\n",
              "      <th>s1041</th>\n",
              "      <td>s1041</td>\n",
              "      <td>s6819</td>\n",
              "      <td>s4377</td>\n",
              "      <td>s225</td>\n",
              "      <td>s1078</td>\n",
              "      <td>s460</td>\n",
              "      <td>s7719</td>\n",
              "      <td>s7418</td>\n",
              "      <td>s591</td>\n",
              "      <td>s1636</td>\n",
              "      <td>s5754</td>\n",
              "      <td>s4016</td>\n",
              "      <td>s6110</td>\n",
              "      <td>s2855</td>\n",
              "      <td>s3138</td>\n",
              "      <td>s3337</td>\n",
              "    </tr>\n",
              "    <tr>\n",
              "      <th>s1060</th>\n",
              "      <td>s1060</td>\n",
              "      <td>s5471</td>\n",
              "      <td>s8084</td>\n",
              "      <td>s821</td>\n",
              "      <td>s3764</td>\n",
              "      <td>s3888</td>\n",
              "      <td>s3582</td>\n",
              "      <td>s7289</td>\n",
              "      <td>s1493</td>\n",
              "      <td>s2175</td>\n",
              "      <td>s2255</td>\n",
              "      <td>s2038</td>\n",
              "      <td>s473</td>\n",
              "      <td>s5</td>\n",
              "      <td>s4858</td>\n",
              "      <td>s5803</td>\n",
              "    </tr>\n",
              "  </tbody>\n",
              "</table>\n",
              "</div>\n",
              "    <div class=\"colab-df-buttons\">\n",
              "\n",
              "  <div class=\"colab-df-container\">\n",
              "    <button class=\"colab-df-convert\" onclick=\"convertToInteractive('df-d388f31c-31f0-4cc8-a6f4-6f7e697a25b6')\"\n",
              "            title=\"Convert this dataframe to an interactive table.\"\n",
              "            style=\"display:none;\">\n",
              "\n",
              "  <svg xmlns=\"http://www.w3.org/2000/svg\" height=\"24px\" viewBox=\"0 -960 960 960\">\n",
              "    <path d=\"M120-120v-720h720v720H120Zm60-500h600v-160H180v160Zm220 220h160v-160H400v160Zm0 220h160v-160H400v160ZM180-400h160v-160H180v160Zm440 0h160v-160H620v160ZM180-180h160v-160H180v160Zm440 0h160v-160H620v160Z\"/>\n",
              "  </svg>\n",
              "    </button>\n",
              "\n",
              "  <style>\n",
              "    .colab-df-container {\n",
              "      display:flex;\n",
              "      gap: 12px;\n",
              "    }\n",
              "\n",
              "    .colab-df-convert {\n",
              "      background-color: #E8F0FE;\n",
              "      border: none;\n",
              "      border-radius: 50%;\n",
              "      cursor: pointer;\n",
              "      display: none;\n",
              "      fill: #1967D2;\n",
              "      height: 32px;\n",
              "      padding: 0 0 0 0;\n",
              "      width: 32px;\n",
              "    }\n",
              "\n",
              "    .colab-df-convert:hover {\n",
              "      background-color: #E2EBFA;\n",
              "      box-shadow: 0px 1px 2px rgba(60, 64, 67, 0.3), 0px 1px 3px 1px rgba(60, 64, 67, 0.15);\n",
              "      fill: #174EA6;\n",
              "    }\n",
              "\n",
              "    .colab-df-buttons div {\n",
              "      margin-bottom: 4px;\n",
              "    }\n",
              "\n",
              "    [theme=dark] .colab-df-convert {\n",
              "      background-color: #3B4455;\n",
              "      fill: #D2E3FC;\n",
              "    }\n",
              "\n",
              "    [theme=dark] .colab-df-convert:hover {\n",
              "      background-color: #434B5C;\n",
              "      box-shadow: 0px 1px 3px 1px rgba(0, 0, 0, 0.15);\n",
              "      filter: drop-shadow(0px 1px 2px rgba(0, 0, 0, 0.3));\n",
              "      fill: #FFFFFF;\n",
              "    }\n",
              "  </style>\n",
              "\n",
              "    <script>\n",
              "      const buttonEl =\n",
              "        document.querySelector('#df-d388f31c-31f0-4cc8-a6f4-6f7e697a25b6 button.colab-df-convert');\n",
              "      buttonEl.style.display =\n",
              "        google.colab.kernel.accessAllowed ? 'block' : 'none';\n",
              "\n",
              "      async function convertToInteractive(key) {\n",
              "        const element = document.querySelector('#df-d388f31c-31f0-4cc8-a6f4-6f7e697a25b6');\n",
              "        const dataTable =\n",
              "          await google.colab.kernel.invokeFunction('convertToInteractive',\n",
              "                                                    [key], {});\n",
              "        if (!dataTable) return;\n",
              "\n",
              "        const docLinkHtml = 'Like what you see? Visit the ' +\n",
              "          '<a target=\"_blank\" href=https://colab.research.google.com/notebooks/data_table.ipynb>data table notebook</a>'\n",
              "          + ' to learn more about interactive tables.';\n",
              "        element.innerHTML = '';\n",
              "        dataTable['output_type'] = 'display_data';\n",
              "        await google.colab.output.renderOutput(dataTable, element);\n",
              "        const docLink = document.createElement('div');\n",
              "        docLink.innerHTML = docLinkHtml;\n",
              "        element.appendChild(docLink);\n",
              "      }\n",
              "    </script>\n",
              "  </div>\n",
              "\n",
              "\n",
              "<div id=\"df-492523b8-bc69-4cb7-9531-05e3a359f694\">\n",
              "  <button class=\"colab-df-quickchart\" onclick=\"quickchart('df-492523b8-bc69-4cb7-9531-05e3a359f694')\"\n",
              "            title=\"Suggest charts\"\n",
              "            style=\"display:none;\">\n",
              "\n",
              "<svg xmlns=\"http://www.w3.org/2000/svg\" height=\"24px\"viewBox=\"0 0 24 24\"\n",
              "     width=\"24px\">\n",
              "    <g>\n",
              "        <path d=\"M19 3H5c-1.1 0-2 .9-2 2v14c0 1.1.9 2 2 2h14c1.1 0 2-.9 2-2V5c0-1.1-.9-2-2-2zM9 17H7v-7h2v7zm4 0h-2V7h2v10zm4 0h-2v-4h2v4z\"/>\n",
              "    </g>\n",
              "</svg>\n",
              "  </button>\n",
              "\n",
              "<style>\n",
              "  .colab-df-quickchart {\n",
              "      --bg-color: #E8F0FE;\n",
              "      --fill-color: #1967D2;\n",
              "      --hover-bg-color: #E2EBFA;\n",
              "      --hover-fill-color: #174EA6;\n",
              "      --disabled-fill-color: #AAA;\n",
              "      --disabled-bg-color: #DDD;\n",
              "  }\n",
              "\n",
              "  [theme=dark] .colab-df-quickchart {\n",
              "      --bg-color: #3B4455;\n",
              "      --fill-color: #D2E3FC;\n",
              "      --hover-bg-color: #434B5C;\n",
              "      --hover-fill-color: #FFFFFF;\n",
              "      --disabled-bg-color: #3B4455;\n",
              "      --disabled-fill-color: #666;\n",
              "  }\n",
              "\n",
              "  .colab-df-quickchart {\n",
              "    background-color: var(--bg-color);\n",
              "    border: none;\n",
              "    border-radius: 50%;\n",
              "    cursor: pointer;\n",
              "    display: none;\n",
              "    fill: var(--fill-color);\n",
              "    height: 32px;\n",
              "    padding: 0;\n",
              "    width: 32px;\n",
              "  }\n",
              "\n",
              "  .colab-df-quickchart:hover {\n",
              "    background-color: var(--hover-bg-color);\n",
              "    box-shadow: 0 1px 2px rgba(60, 64, 67, 0.3), 0 1px 3px 1px rgba(60, 64, 67, 0.15);\n",
              "    fill: var(--button-hover-fill-color);\n",
              "  }\n",
              "\n",
              "  .colab-df-quickchart-complete:disabled,\n",
              "  .colab-df-quickchart-complete:disabled:hover {\n",
              "    background-color: var(--disabled-bg-color);\n",
              "    fill: var(--disabled-fill-color);\n",
              "    box-shadow: none;\n",
              "  }\n",
              "\n",
              "  .colab-df-spinner {\n",
              "    border: 2px solid var(--fill-color);\n",
              "    border-color: transparent;\n",
              "    border-bottom-color: var(--fill-color);\n",
              "    animation:\n",
              "      spin 1s steps(1) infinite;\n",
              "  }\n",
              "\n",
              "  @keyframes spin {\n",
              "    0% {\n",
              "      border-color: transparent;\n",
              "      border-bottom-color: var(--fill-color);\n",
              "      border-left-color: var(--fill-color);\n",
              "    }\n",
              "    20% {\n",
              "      border-color: transparent;\n",
              "      border-left-color: var(--fill-color);\n",
              "      border-top-color: var(--fill-color);\n",
              "    }\n",
              "    30% {\n",
              "      border-color: transparent;\n",
              "      border-left-color: var(--fill-color);\n",
              "      border-top-color: var(--fill-color);\n",
              "      border-right-color: var(--fill-color);\n",
              "    }\n",
              "    40% {\n",
              "      border-color: transparent;\n",
              "      border-right-color: var(--fill-color);\n",
              "      border-top-color: var(--fill-color);\n",
              "    }\n",
              "    60% {\n",
              "      border-color: transparent;\n",
              "      border-right-color: var(--fill-color);\n",
              "    }\n",
              "    80% {\n",
              "      border-color: transparent;\n",
              "      border-right-color: var(--fill-color);\n",
              "      border-bottom-color: var(--fill-color);\n",
              "    }\n",
              "    90% {\n",
              "      border-color: transparent;\n",
              "      border-bottom-color: var(--fill-color);\n",
              "    }\n",
              "  }\n",
              "</style>\n",
              "\n",
              "  <script>\n",
              "    async function quickchart(key) {\n",
              "      const quickchartButtonEl =\n",
              "        document.querySelector('#' + key + ' button');\n",
              "      quickchartButtonEl.disabled = true;  // To prevent multiple clicks.\n",
              "      quickchartButtonEl.classList.add('colab-df-spinner');\n",
              "      try {\n",
              "        const charts = await google.colab.kernel.invokeFunction(\n",
              "            'suggestCharts', [key], {});\n",
              "      } catch (error) {\n",
              "        console.error('Error during call to suggestCharts:', error);\n",
              "      }\n",
              "      quickchartButtonEl.classList.remove('colab-df-spinner');\n",
              "      quickchartButtonEl.classList.add('colab-df-quickchart-complete');\n",
              "    }\n",
              "    (() => {\n",
              "      let quickchartButtonEl =\n",
              "        document.querySelector('#df-492523b8-bc69-4cb7-9531-05e3a359f694 button');\n",
              "      quickchartButtonEl.style.display =\n",
              "        google.colab.kernel.accessAllowed ? 'block' : 'none';\n",
              "    })();\n",
              "  </script>\n",
              "</div>\n",
              "\n",
              "    </div>\n",
              "  </div>\n"
            ],
            "text/plain": [
              "      If you watched Recommendation 1 Recommendation 2 Recommendation 3  \\\n",
              "s1004          s1004            s6358            s1659             s224   \n",
              "s1005          s1005            s5592            s5992            s6839   \n",
              "s1006          s1006            s2186            s3910            s6054   \n",
              "s1007          s1007            s7165            s2933            s2812   \n",
              "s1018          s1018            s4625            s1087             s478   \n",
              "s1028          s1028            s6947            s6209            s8222   \n",
              "s1037          s1037            s6635            s3892            s5783   \n",
              "s1040          s1040            s6128            s1040              s46   \n",
              "s1041          s1041            s6819            s4377             s225   \n",
              "s1060          s1060            s5471            s8084             s821   \n",
              "\n",
              "      Recommendation 4 Recommendation 5 Recommendation 6 Recommendation 7  \\\n",
              "s1004            s4909               s4            s5883            s3256   \n",
              "s1005            s7589            s3570            s7434            s4396   \n",
              "s1006            s5134            s5116            s2208             s883   \n",
              "s1007            s6092            s5858            s8249            s5779   \n",
              "s1018            s5744             s694            s2646            s6111   \n",
              "s1028            s8385            s2176            s1776            s8343   \n",
              "s1037             s162            s4937            s7599            s3583   \n",
              "s1040            s8658            s5267            s7713            s3380   \n",
              "s1041            s1078             s460            s7719            s7418   \n",
              "s1060            s3764            s3888            s3582            s7289   \n",
              "\n",
              "      Recommendation 8 Recommendation 9 Recommendation 10 Recommendation 11  \\\n",
              "s1004            s8654            s1929              s701             s5303   \n",
              "s1005            s5111            s5206             s5192             s8732   \n",
              "s1006            s5074            s8646             s4516             s8732   \n",
              "s1007            s5108            s5341             s8079             s5219   \n",
              "s1018            s6316             s193             s4646             s5192   \n",
              "s1028            s1715            s1844             s5219             s5206   \n",
              "s1037            s5451            s8221             s2391             s3955   \n",
              "s1040            s8523            s8623              s263             s8732   \n",
              "s1041             s591            s1636             s5754             s4016   \n",
              "s1060            s1493            s2175             s2255             s2038   \n",
              "\n",
              "      Recommendation 12 Recommendation 13 Recommendation 14 Recommendation 15  \n",
              "s1004             s8732               s92              s910              s909  \n",
              "s1005               s92              s910              s909              s906  \n",
              "s1006               s92              s910              s909              s906  \n",
              "s1007             s5206             s5192             s8732               s92  \n",
              "s1018             s8732               s92              s910              s909  \n",
              "s1028             s5192             s8732               s92              s910  \n",
              "s1037             s4648             s8218             s5497             s4986  \n",
              "s1040               s92              s910              s909              s906  \n",
              "s1041             s6110             s2855             s3138             s3337  \n",
              "s1060              s473                s5             s4858             s5803  "
            ]
          },
          "execution_count": 390,
          "metadata": {},
          "output_type": "execute_result"
        }
      ],
      "source": [
        "k = 15\n",
        "\n",
        "# Initialize recommendations DataFrame using show_ids as index\n",
        "df_ShowRecommendations = pd.DataFrame(columns=['If you watched'], index=item_mapper)\n",
        "\n",
        "# Initialize recommendations columns for the top k recommendations\n",
        "for i in range(1, k):\n",
        "    df_ShowRecommendations[f'Recommendation {i}'] = None\n",
        "\n",
        "# Generate recommendations for all the show_ids\n",
        "for row in df_ShowRecommendations.itertuples():\n",
        "    # Get a ranked list of recommendations (using show_id)\n",
        "    rec_ids, rec_distances = recommend(row[0], X, item_mapper, item_inv_mapper, k=k, messages=False)\n",
        "\n",
        "    # Store the show_id of the watched movie (show_id)\n",
        "    df_ShowRecommendations.at[row[0], 'If you watched'] = row[0]\n",
        "\n",
        "    # Store the show_ids of the recommended shows\n",
        "    for i, r in enumerate(rec_ids):\n",
        "        df_ShowRecommendations.at[row[0], f'Recommendation {i+1}'] = r\n",
        "\n",
        "# Display the resulting DataFrame with show_ids instead of titles\n",
        "df_ShowRecommendations.head(10)  # Just for a sample output\n"
      ]
    },
    {
      "cell_type": "code",
      "execution_count": null,
      "metadata": {
        "id": "Zbx-02N6burx"
      },
      "outputs": [],
      "source": [
        "import sqlite3\n",
        "\n",
        "db_name = \"show_collaborative_filter.db\"\n",
        "conn= sqlite3.connect(db_name)\n",
        "\n",
        "df_ShowRecommendations.to_sql('collaborative_recommendations', conn, if_exists='replace', index=False)\n",
        "\n",
        "conn.close()"
      ]
    },
    {
      "cell_type": "markdown",
      "metadata": {
        "id": "CYO7S4FtVSie"
      },
      "source": []
    }
  ],
  "metadata": {
    "colab": {
      "provenance": []
    },
    "kernelspec": {
      "display_name": "Python 3",
      "name": "python3"
    },
    "language_info": {
      "name": "python"
    }
  },
  "nbformat": 4,
  "nbformat_minor": 0
}
